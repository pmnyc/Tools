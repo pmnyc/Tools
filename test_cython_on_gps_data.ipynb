{
 "cells": [
  {
   "cell_type": "code",
   "execution_count": 1,
   "metadata": {
    "collapsed": false
   },
   "outputs": [],
   "source": [
    "%load_ext Cython\n",
    "# https://kaushikghose.wordpress.com/2014/12/08/get-more-out-of-cython/\n",
    "# http://nealhughes.net/cython1/\n",
    "# http://codereview.stackexchange.com/questions/43413/optimize-cython-code-with-np-ndarray-contained\n",
    "# https://github.com/bendmorris/pybioclim/blob/master/src/coords.pyx"
   ]
  },
  {
   "cell_type": "code",
   "execution_count": 2,
   "metadata": {
    "collapsed": false
   },
   "outputs": [],
   "source": [
    "import math\n",
    "import numpy as np\n",
    "\n",
    "\n",
    "gpsdata = np.array([[53.3854313241815,-1.4932127483203013, 1384209632918], \n",
    "                    [53.38609362252086,-1.4951305729482556, 1384209650218]])\n",
    "\n",
    "\n",
    "def calc_distance(lat1, lon1, lat2, lon2, unit=\"mile\"):\n",
    "    \"\"\"\n",
    "    The function returns the distance between two lat, long coordinates in miles or kilometers\n",
    "\n",
    "    :param lat1: latitude info, in geo reference WGS84\n",
    "    :param lon1: longitude info, in geo reference WGS84\n",
    "    :type arg1: float\n",
    "    :type arg2: float\n",
    "    :type arg3: float\n",
    "    :type arg4: float\n",
    "    :return: the distance between two coordinates in mile or km\n",
    "    :rtype: float\n",
    "\n",
    "    :Example:\n",
    "    >>> calc_distance(40.920320, -74.293288, 40.730975, -74.001509, \"km\")\n",
    "    \"\"\"\n",
    "    error_msg = \"The unit for distance has to be one of mile and km\"\n",
    "    if unit not in ['mile', 'km']:\n",
    "        raise ValueError(error_msg)\n",
    "    theta = lon1 -lon2\n",
    "    dist_angle = math.sin(math.radians(lat1))*math.sin(math.radians(lat2)) \\\n",
    "            + math.cos(math.radians(lat1))*math.cos(math.radians(lat2)) \\\n",
    "            * math.cos(math.radians(theta))\n",
    "    dist_angle = max(-1, min(dist_angle, 1))\n",
    "    dist_angle = math.acos(dist_angle)\n",
    "    dist_angle = math.degrees(dist_angle)\n",
    "    mile = dist_angle * 60.0 * 1.1515\n",
    "    km = mile * 1.609344\n",
    "    if unit == 'mile':\n",
    "        return mile\n",
    "    elif unit == 'km':\n",
    "        return km\n",
    "    else:\n",
    "        raise ValueError(error_msg)\n"
   ]
  },
  {
   "cell_type": "code",
   "execution_count": 3,
   "metadata": {
    "collapsed": false,
    "scrolled": true
   },
   "outputs": [
    {
     "data": {
      "text/plain": [
       "32.340596225930696"
      ]
     },
     "execution_count": 3,
     "metadata": {},
     "output_type": "execute_result"
    }
   ],
   "source": [
    "calc_distance(40.920320, -74.293288, 40.730975, -74.001509, \"km\")"
   ]
  },
  {
   "cell_type": "code",
   "execution_count": 4,
   "metadata": {
    "collapsed": false
   },
   "outputs": [
    {
     "name": "stdout",
     "output_type": "stream",
     "text": [
      "32.34059622449445\n"
     ]
    }
   ],
   "source": [
    "%%cython\n",
    "# or use %%cython -a for more details\n",
    "\n",
    "cimport cython\n",
    "\n",
    "cdef extern from \"math.h\":\n",
    "    double sin(double)\n",
    "    double cos(double)\n",
    "    double acos(double)\n",
    "    double atan2(double, double)\n",
    "\n",
    "cdef double pi = 3.141592654\n",
    "\n",
    "@cython.cdivision(True)\n",
    "cdef double radians(double deg):\n",
    "    return deg/180.*(pi)\n",
    "\n",
    "@cython.cdivision(True)\n",
    "cdef double degrees(double rad):\n",
    "    return rad * (180.0 / pi)\n",
    "\n",
    "# from libc.math cimport acos, degrees, sin, cos, radians\n",
    "\n",
    "cdef double calc_distance_km_c(double lat1, double lon1, \n",
    "                    double lat2, double lon2):\n",
    "    cdef double theta, dist_angle, mile, km\n",
    "        \n",
    "    theta = lon1 -lon2\n",
    "    dist_angle = sin(radians(lat1))* sin(radians(lat2)) \\\n",
    "            + cos(radians(lat1))* cos(radians(lat2)) \\\n",
    "            * cos(radians(theta))\n",
    "    dist_angle = max(-1, min(dist_angle, 1))\n",
    "    dist_angle = acos(dist_angle)\n",
    "    dist_angle = degrees(dist_angle)\n",
    "    mile = dist_angle * 60.0 * 1.1515\n",
    "    km = mile * 1.609344\n",
    "    return km\n",
    "\n",
    "print(calc_distance_km_c(40.920320, -74.293288, 40.730975, -74.001509))"
   ]
  },
  {
   "cell_type": "code",
   "execution_count": 5,
   "metadata": {
    "collapsed": false
   },
   "outputs": [
    {
     "name": "stdout",
     "output_type": "stream",
     "text": [
      "0.14696399289179068\n"
     ]
    }
   ],
   "source": [
    "distance = sum([calc_distance(gpsdata[i][0], \n",
    "                              gpsdata[i][1], \n",
    "                              gpsdata[i+1][0], \n",
    "                              gpsdata[i+1][1], \"km\") \n",
    "                for i in range(len(gpsdata)-1)])\n",
    "print(distance)"
   ]
  },
  {
   "cell_type": "code",
   "execution_count": 6,
   "metadata": {
    "collapsed": false,
    "scrolled": true
   },
   "outputs": [],
   "source": [
    "%%cython\n",
    "\n",
    "cimport numpy as np\n",
    "cimport cython\n",
    "from libc.time cimport difftime\n",
    "import calendar, time\n",
    "\n",
    "\n",
    "cdef extern from \"math.h\":\n",
    "    double sin(double)\n",
    "    double cos(double)\n",
    "    double acos(double)\n",
    "    double atan2(double, double)\n",
    "    double log(double)\n",
    "\n",
    "cdef double pi = 3.141592654\n",
    "\n",
    "@cython.cdivision(True)\n",
    "cdef double radians(double deg):\n",
    "    return deg/180.*(pi)\n",
    "\n",
    "@cython.cdivision(True)\n",
    "cdef double degrees(double rad):\n",
    "    return rad * (180.0 / pi)\n",
    "\n",
    "# from libc.math cimport acos, degrees, sin, cos, radians\n",
    "\n",
    "cdef double calc_distance_km_c(double lat1, double lon1, \n",
    "                    double lat2, double lon2):\n",
    "    cdef double theta, dist_angle, mile, km\n",
    "        \n",
    "    theta = lon1 -lon2\n",
    "    dist_angle = sin(radians(lat1))* sin(radians(lat2)) \\\n",
    "            + cos(radians(lat1))* cos(radians(lat2)) \\\n",
    "            * cos(radians(theta))\n",
    "    dist_angle = max(-1, min(dist_angle, 1))\n",
    "    dist_angle = acos(dist_angle)\n",
    "    dist_angle = degrees(dist_angle)\n",
    "    mile = dist_angle * 60.0 * 1.1515\n",
    "    km = mile * 1.609344\n",
    "    return km\n",
    "\n",
    "#cdef np.ndarray h = np.zeros([xmax, ymax], dtype=DTYPE)\n",
    "\n",
    "def speed_cal_c(np.ndarray[np.float_t, ndim=2] gpsdata):\n",
    "    \"\"\"\n",
    "    :param gpsdata: numpy 2 dimensional gps data, lat, long and UTC timestamp\n",
    "    :return Speed in the gps data, km/hour\n",
    "    \"\"\"\n",
    "    cdef int len_ = len(gpsdata)-1\n",
    "    cdef double distance = 0.\n",
    "    cdef double scale2sec, x_, x, run_time_in_sec, speed\n",
    "    for i in range(len_):\n",
    "        distance += calc_distance_km_c(gpsdata[i][0], gpsdata[i][1], gpsdata[i+1][0], gpsdata[i+1][1])\n",
    "    x_ = calendar.timegm(time.gmtime())\n",
    "    scale_ = gpsdata[0, 2] / x_\n",
    "    scale_ = min([1.0, 10.0, 100.0, 1000.0], key=lambda x:abs(log(x)-log(scale_)))\n",
    "    run_time_in_sec = max(gpsdata[:, 2])/scale_ - min(gpsdata[:, 2])/scale_\n",
    "    speed = (distance / (run_time_in_sec / 3600.0))\n",
    "    print(\"The distance traveled is {} km\".format(distance))\n",
    "    print(\"The time traveled is {} seconds\".format(run_time_in_sec))\n",
    "    print(\"The returned speed is in unit km/h\")\n",
    "    return speed\n"
   ]
  },
  {
   "cell_type": "code",
   "execution_count": 7,
   "metadata": {
    "collapsed": false,
    "scrolled": false
   },
   "outputs": [
    {
     "name": "stdout",
     "output_type": "stream",
     "text": [
      "The distance traveled is 0.14696396221255864 km\n",
      "The time traveled is 17.299999952316284 seconds\n",
      "The returned speed is in unit km/h\n"
     ]
    },
    {
     "data": {
      "text/plain": [
       "30.582096267253124"
      ]
     },
     "execution_count": 7,
     "metadata": {},
     "output_type": "execute_result"
    }
   ],
   "source": [
    "speed_cal_c(gpsdata)"
   ]
  }
 ],
 "metadata": {
  "kernelspec": {
   "display_name": "Python 3",
   "language": "python",
   "name": "python3"
  },
  "language_info": {
   "codemirror_mode": {
    "name": "ipython",
    "version": 3
   },
   "file_extension": ".py",
   "mimetype": "text/x-python",
   "name": "python",
   "nbconvert_exporter": "python",
   "pygments_lexer": "ipython3",
   "version": "3.6.0"
  }
 },
 "nbformat": 4,
 "nbformat_minor": 2
}
