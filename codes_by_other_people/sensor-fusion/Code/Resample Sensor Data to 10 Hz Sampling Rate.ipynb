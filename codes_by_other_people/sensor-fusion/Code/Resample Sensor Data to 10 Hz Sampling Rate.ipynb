{
 "cells": [
  {
   "cell_type": "markdown",
   "metadata": {},
   "source": [
    "# Goal: resample XYZ signals to 10 Hz sampling rate"
   ]
  },
  {
   "cell_type": "markdown",
   "metadata": {},
   "source": [
    "#### Experiment: I drove my car from home to Censio and back.  My phone rested on my seat facing forwards for the trip to Censio.  Nick was in the passenger seat with his phone in his pocket.  For the return trip, we swapped phones.  The total time for the trip was about 15 minutes."
   ]
  },
  {
   "cell_type": "code",
   "execution_count": 33,
   "metadata": {
    "collapsed": true
   },
   "outputs": [],
   "source": [
    "import pandas as pd\n",
    "import numpy as np\n",
    "%matplotlib inline\n",
    "import matplotlib.pyplot as plt"
   ]
  },
  {
   "cell_type": "code",
   "execution_count": 34,
   "metadata": {
    "collapsed": true
   },
   "outputs": [],
   "source": [
    "# load the raw data\n",
    "df = pd.read_csv('../Data/shaneiphone_exp2.csv')"
   ]
  },
  {
   "cell_type": "markdown",
   "metadata": {},
   "source": [
    "#### For SensorLog data, sampling rate can be obtained directly from 'motionTimestamp_sinceReboot'"
   ]
  },
  {
   "cell_type": "code",
   "execution_count": 35,
   "metadata": {
    "collapsed": false
   },
   "outputs": [],
   "source": [
    "sampling_rate = 1 / np.diff(df['motionTimestamp_sinceReboot'])"
   ]
  },
  {
   "cell_type": "code",
   "execution_count": 36,
   "metadata": {
    "collapsed": false
   },
   "outputs": [
    {
     "data": {
      "text/plain": [
       "(array([  1.40000000e+02,   2.00000000e+00,   1.45680000e+04,\n",
       "          0.00000000e+00,   0.00000000e+00,   0.00000000e+00,\n",
       "          0.00000000e+00,   4.00000000e+00,   0.00000000e+00,\n",
       "          3.19800000e+03]),\n",
       " array([  9.92073334,  12.08201557,  14.2432978 ,  16.40458003,\n",
       "         18.56586226,  20.72714449,  22.88842673,  25.04970896,\n",
       "         27.21099119,  29.37227342,  31.53355565]),\n",
       " <a list of 10 Patch objects>)"
      ]
     },
     "execution_count": 36,
     "metadata": {},
     "output_type": "execute_result"
    },
    {
     "data": {
      "image/png": "[encoded data removed]",
      "text/plain": [
       "<matplotlib.figure.Figure at 0x10f052590>"
      ]
     },
     "metadata": {},
     "output_type": "display_data"
    }
   ],
   "source": [
    "plt.hist(sampling_rate)"
   ]
  },
  {
   "cell_type": "markdown",
   "metadata": {},
   "source": [
    "#### The sampling rate was 15 Hz most of the time.  Sometimes it was 30 Hz.  Very occasionally it was close to 10 Hz.  This is somewhat annoying, so let's resample to 10 Hz."
   ]
  },
  {
   "cell_type": "markdown",
   "metadata": {},
   "source": [
    "#### First, we have to make a DateTime column from the loggingTime columns and set it as the index"
   ]
  },
  {
   "cell_type": "code",
   "execution_count": 37,
   "metadata": {
    "collapsed": true
   },
   "outputs": [],
   "source": [
    "df['DateTime'] = pd.DatetimeIndex(df['loggingTime'])\n",
    "df = df.set_index('DateTime')"
   ]
  },
  {
   "cell_type": "markdown",
   "metadata": {
    "collapsed": true
   },
   "source": [
    "#### Then we just use pandas built-in resampling function"
   ]
  },
  {
   "cell_type": "code",
   "execution_count": 38,
   "metadata": {
    "collapsed": false
   },
   "outputs": [],
   "source": [
    "# 100L corresponds to 100 milliseconds\n",
    "rdf = df.resample('100L')"
   ]
  },
  {
   "cell_type": "code",
   "execution_count": 45,
   "metadata": {
    "collapsed": false
   },
   "outputs": [
    {
     "data": {
      "text/plain": [
       "loggingSample                             3\n",
       "locationTimestamp_since1970               3\n",
       "locationLatitude                          3\n",
       "locationLongitude                         3\n",
       "locationAltitude                          3\n",
       "locationSpeed                             3\n",
       "locationCourse                            3\n",
       "locationVerticalAccuracy                  3\n",
       "locationHorizontalAccuracy                3\n",
       "locationFloor                             3\n",
       "locationHeadingTimestamp_since1970        3\n",
       "locationHeadingX                          3\n",
       "locationHeadingY                          3\n",
       "locationHeadingZ                          3\n",
       "locationTrueHeading                       3\n",
       "locationMagneticHeading                   3\n",
       "locationHeadingAccuracy                   3\n",
       "accelerometerTimestamp_sinceReboot        3\n",
       "accelerometerAccelerationX                3\n",
       "accelerometerAccelerationY                3\n",
       "accelerometerAccelerationZ                3\n",
       "gyroTimestamp_sinceReboot                 3\n",
       "gyroRotationX                             3\n",
       "gyroRotationY                             3\n",
       "gyroRotationZ                             3\n",
       "motionTimestamp_sinceReboot               3\n",
       "motionYaw                                 3\n",
       "motionRoll                                3\n",
       "motionPitch                               3\n",
       "motionRotationRateX                       3\n",
       "motionRotationRateY                       3\n",
       "motionRotationRateZ                       3\n",
       "motionUserAccelerationX                   3\n",
       "motionUserAccelerationY                   3\n",
       "motionUserAccelerationZ                   3\n",
       "motionQuaternionX                         3\n",
       "motionQuaternionY                         3\n",
       "motionQuaternionZ                         3\n",
       "motionQuaternionW                         3\n",
       "motionGravityX                            3\n",
       "motionGravityY                            3\n",
       "motionGravityZ                            3\n",
       "motionMagneticFieldX                      3\n",
       "motionMagneticFieldY                      3\n",
       "motionMagneticFieldZ                      3\n",
       "motionMagneticFieldCalibrationAccuracy    3\n",
       "activityTimestamp_sinceReboot             3\n",
       "activityActivityConfidence                3\n",
       "pedometerNumberofSteps                    3\n",
       "pedometerDistance                         3\n",
       "pedometerFloorAscended                    3\n",
       "pedometerFloorDescended                   3\n",
       "deviceOrientation                         3\n",
       "batteryState                              3\n",
       "batteryLevel                              3\n",
       "state                                     3\n",
       "dtype: int64"
      ]
     },
     "execution_count": 45,
     "metadata": {},
     "output_type": "execute_result"
    }
   ],
   "source": [
    "# check for nans\n",
    "rdf.isnull().sum()"
   ]
  },
  {
   "cell_type": "markdown",
   "metadata": {},
   "source": [
    "#### 3 rows in the resampled database are nan's.  Just drop them."
   ]
  },
  {
   "cell_type": "code",
   "execution_count": 47,
   "metadata": {
    "collapsed": false
   },
   "outputs": [],
   "source": [
    "rdf = rdf.dropna()"
   ]
  },
  {
   "cell_type": "code",
   "execution_count": 48,
   "metadata": {
    "collapsed": true
   },
   "outputs": [],
   "source": [
    "resampled_rate = 1 / np.diff(rdf['motionTimestamp_sinceReboot'])"
   ]
  },
  {
   "cell_type": "code",
   "execution_count": 51,
   "metadata": {
    "collapsed": false
   },
   "outputs": [
    {
     "data": {
      "text/plain": [
       "(array([  2.40000000e+01,   2.15500000e+03,   1.64000000e+03,\n",
       "          4.53600000e+03,   1.00000000e+00,   1.00200000e+03,\n",
       "          1.00000000e+00,   1.04100000e+03,   0.00000000e+00,\n",
       "          0.00000000e+00,   0.00000000e+00,   0.00000000e+00,\n",
       "          0.00000000e+00,   0.00000000e+00,   0.00000000e+00,\n",
       "          0.00000000e+00,   0.00000000e+00,   0.00000000e+00,\n",
       "          0.00000000e+00,   2.80000000e+01]),\n",
       " array([  5.46289872,   6.76143832,   8.05997791,   9.35851751,\n",
       "         10.6570571 ,  11.9555967 ,  13.25413629,  14.55267589,\n",
       "         15.85121548,  17.14975508,  18.44829467,  19.74683427,\n",
       "         21.04537386,  22.34391346,  23.64245305,  24.94099265,\n",
       "         26.23953224,  27.53807184,  28.83661143,  30.13515103,  31.43369062]),\n",
       " <a list of 20 Patch objects>)"
      ]
     },
     "execution_count": 51,
     "metadata": {},
     "output_type": "execute_result"
    },
    {
     "data": {
      "image/png": "[encoded data removed]",
      "text/plain": [
       "<matplotlib.figure.Figure at 0x11070e650>"
      ]
     },
     "metadata": {},
     "output_type": "display_data"
    }
   ],
   "source": [
    "plt.hist(resampled_rate, bins=20)"
   ]
  },
  {
   "cell_type": "markdown",
   "metadata": {},
   "source": [
    "#### This seems like pretty lousy performance, but the DateTime indices themselves increment by 0.1 second with each row.  We'll proceed for now, but keep this in mind later if there are problems further down the road."
   ]
  },
  {
   "cell_type": "code",
   "execution_count": null,
   "metadata": {
    "collapsed": true
   },
   "outputs": [],
   "source": []
  }
 ],
 "metadata": {
  "kernelspec": {
   "display_name": "Python 2",
   "language": "python",
   "name": "python2"
  },
  "language_info": {
   "codemirror_mode": {
    "name": "ipython",
    "version": 2
   },
   "file_extension": ".py",
   "mimetype": "text/x-python",
   "name": "python",
   "nbconvert_exporter": "python",
   "pygments_lexer": "ipython2",
   "version": "2.7.10"
  }
 },
 "nbformat": 4,
 "nbformat_minor": 0
}
