{
 "cells": [
  {
   "cell_type": "markdown",
   "metadata": {},
   "source": [
    "# Standardize sensor data from smartphone apps"
   ]
  },
  {
   "cell_type": "code",
   "execution_count": 1,
   "metadata": {
    "collapsed": true
   },
   "outputs": [],
   "source": [
    "from sensordata import Load"
   ]
  },
  {
   "cell_type": "code",
   "execution_count": 2,
   "metadata": {
    "collapsed": false
   },
   "outputs": [
    {
     "name": "stdout",
     "output_type": "stream",
     "text": [
      "Reading csv file into Pandas dataframe\n",
      "Rotating to common reference frame...\n",
      "...accelerometer\n",
      "...orientation\n",
      "...userAcceleration\n",
      "...gravity\n",
      "...magneticField\n",
      "...gyroscope\n",
      "Resampling to 10 Hz\n",
      "Storing dataframe with modified date column to ../Data/shaneiphone_exp2_processed.csv\n"
     ]
    }
   ],
   "source": [
    "# process Shane's iPhone data from car trip: Cambridgeport to Censio and back.\n",
    "dfloc = '../Data/shaneiphone_exp2.csv'\n",
    "df_processed = Load(dfloc)"
   ]
  },
  {
   "cell_type": "code",
   "execution_count": 3,
   "metadata": {
    "collapsed": false
   },
   "outputs": [
    {
     "name": "stdout",
     "output_type": "stream",
     "text": [
      "Reading csv file into Pandas dataframe\n",
      "Rotating to common reference frame...\n",
      "...accelerometer\n",
      "...orientation\n",
      "...userAcceleration\n",
      "...gravity\n",
      "...magneticField\n",
      "...gyroscope\n",
      "Resampling to 10 Hz\n",
      "Storing dataframe with modified date column to ../Data/shanebus20150827_processed.csv\n"
     ]
    }
   ],
   "source": [
    "# process Shane's iPhone data from bus trip: Route 47.\n",
    "dfloc = '../Data/shanebus20150827.csv'\n",
    "df_processed = Load(dfloc)"
   ]
  },
  {
   "cell_type": "code",
   "execution_count": null,
   "metadata": {
    "collapsed": true
   },
   "outputs": [],
   "source": []
  }
 ],
 "metadata": {
  "kernelspec": {
   "display_name": "Python 2",
   "language": "python",
   "name": "python2"
  },
  "language_info": {
   "codemirror_mode": {
    "name": "ipython",
    "version": 2
   },
   "file_extension": ".py",
   "mimetype": "text/x-python",
   "name": "python",
   "nbconvert_exporter": "python",
   "pygments_lexer": "ipython2",
   "version": "2.7.10"
  }
 },
 "nbformat": 4,
 "nbformat_minor": 0
}
