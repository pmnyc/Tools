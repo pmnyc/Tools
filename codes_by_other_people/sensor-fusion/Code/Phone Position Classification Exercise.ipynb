{
 "cells": [
  {
   "cell_type": "markdown",
   "metadata": {},
   "source": [
    "# Goal: Classify smartphone location as driver-side or passenger-side based on  sensor data"
   ]
  },
  {
   "cell_type": "code",
   "execution_count": 28,
   "metadata": {
    "collapsed": true
   },
   "outputs": [],
   "source": [
    "import pandas as pd\n",
    "from scipy.ndimage import gaussian_filter\n",
    "from sklearn.ensemble import RandomForestClassifier\n",
    "from sklearn.cross_validation import cross_val_score\n",
    "from sklearn.metrics import accuracy_score\n",
    "import numpy as np\n",
    "%matplotlib inline"
   ]
  },
  {
   "cell_type": "markdown",
   "metadata": {},
   "source": [
    "#### Load the processed sensor data for car trip (see \"Process Smartphone Sensor Data\" jupyter notebook).  On this trip, I drove my car from home to Censio and back and used SensorLog on my iPhone to track the trip.  The total time for the trip was about 15 minutes."
   ]
  },
  {
   "cell_type": "code",
   "execution_count": 29,
   "metadata": {
    "collapsed": false
   },
   "outputs": [],
   "source": [
    "df = pd.read_csv('../Data/shaneiphone_exp2_processed.csv', index_col='DateTime')"
   ]
  },
  {
   "cell_type": "code",
   "execution_count": 30,
   "metadata": {
    "collapsed": true
   },
   "outputs": [],
   "source": [
    "# Use only userAcceleration and gyroscope data, since these features are expected to generalize well.\n",
    "xyz = ['X', 'Y', 'Z']\n",
    "measures = ['userAcceleration', 'gyroscope']\n",
    "basefeatures = [i + j for i in measures for j in xyz]\n",
    "features = [i + j for i in measures for j in xyz]"
   ]
  },
  {
   "cell_type": "code",
   "execution_count": 31,
   "metadata": {
    "collapsed": true
   },
   "outputs": [],
   "source": [
    "# Add Gaussian smoothed features\n",
    "smoothfeatures = []\n",
    "for i in features:\n",
    "    df[i + 'sm'] = gaussian_filter(df[i], 3)\n",
    "    df[i + '2sm'] = gaussian_filter(df[i], 100)\n",
    "    smoothfeatures.append(i + 'sm')\n",
    "    smoothfeatures.append(i + '2sm')\n",
    "features.extend(smoothfeatures)"
   ]
  },
  {
   "cell_type": "code",
   "execution_count": 32,
   "metadata": {
    "collapsed": true
   },
   "outputs": [],
   "source": [
    "# Generate Jerk signal\n",
    "jerkfeatures = []\n",
    "for i in features:\n",
    "    diffsignal = np.diff(df[i])\n",
    "    df[i + 'jerk'] = np.append(0, diffsignal)\n",
    "    jerkfeatures.append(i + 'jerk')\n",
    "features.extend(jerkfeatures)"
   ]
  },
  {
   "cell_type": "code",
   "execution_count": 33,
   "metadata": {
    "collapsed": true
   },
   "outputs": [],
   "source": [
    "# assign class labels\n",
    "class0 = (df.index > '2015-08-25 14:35:00') & \\\n",
    "        (df.index < '2015-08-25 14:42:00')\n",
    "\n",
    "class1 = (df.index > '2015-08-25 14:43:00') & \\\n",
    "        (df.index < '2015-08-25 14:48:00')\n",
    "\n",
    "df['class'] = -1\n",
    "df['class'][class0] = 0\n",
    "df['class'][class1] = 1"
   ]
  },
  {
   "cell_type": "code",
   "execution_count": 37,
   "metadata": {
    "collapsed": true
   },
   "outputs": [],
   "source": [
    "# separate into quarters for train and validation\n",
    "q1 = df[(df.index <= '2015-08-25 14:38:30') & \n",
    "        (df.index > '2015-08-25 14:33:00')]\n",
    "q2 = df[(df.index > '2015-08-25 14:38:30') & \n",
    "        (df.index <= '2015-08-25 14:42:00')]\n",
    "q3 = df[(df.index > '2015-08-25 14:43:00') & \n",
    "        (df.index <= '2015-08-25 14:45:30')]\n",
    "q4 = df[(df.index > '2015-08-25 14:45:30') & \n",
    "        (df.index <= '2015-08-25 14:48:00')]\n",
    "traindf = pd.concat([q1, q3])\n",
    "validationdf = pd.concat([q2, q4])"
   ]
  },
  {
   "cell_type": "code",
   "execution_count": 10,
   "metadata": {
    "collapsed": false
   },
   "outputs": [
    {
     "name": "stdout",
     "output_type": "stream",
     "text": [
      "0\n",
      "0\n"
     ]
    }
   ],
   "source": [
    "# check for NaNs in the dataframes\n",
    "print(traindf.isnull().sum().sum())\n",
    "print(validationdf.isnull().sum().sum())"
   ]
  },
  {
   "cell_type": "code",
   "execution_count": 11,
   "metadata": {
    "collapsed": true
   },
   "outputs": [],
   "source": [
    "# drop NaNs\n",
    "traindf = traindf.dropna()\n",
    "validationdf = validationdf.dropna()"
   ]
  },
  {
   "cell_type": "code",
   "execution_count": 12,
   "metadata": {
    "collapsed": true
   },
   "outputs": [],
   "source": [
    "# Make the training and validation sets\n",
    "X_train = traindf[features].values\n",
    "y_train = traindf['class'].values\n",
    "X_test = validationdf[features].values\n",
    "y_test = validationdf['class'].values"
   ]
  },
  {
   "cell_type": "code",
   "execution_count": 13,
   "metadata": {
    "collapsed": false
   },
   "outputs": [],
   "source": [
    "# train a random forest\n",
    "clf = RandomForestClassifier(n_estimators=200)"
   ]
  },
  {
   "cell_type": "code",
   "execution_count": 14,
   "metadata": {
    "collapsed": false
   },
   "outputs": [
    {
     "name": "stdout",
     "output_type": "stream",
     "text": [
      "(array([ 0.76409945,  0.81746513,  0.97387606,  0.93256379,  0.92284326]), 0.88216953903356132, 0.078397989661162126)\n"
     ]
    }
   ],
   "source": [
    "# get the 5-fold cross-validation score\n",
    "scores = cross_val_score(clf, X_train, y_train, cv=5)\n",
    "print(scores, scores.mean(), scores.std())"
   ]
  },
  {
   "cell_type": "code",
   "execution_count": 15,
   "metadata": {
    "collapsed": true
   },
   "outputs": [],
   "source": [
    "# apply model to test set\n",
    "clf.fit(X_train, y_train)\n",
    "predict_y = clf.predict(X_test)"
   ]
  },
  {
   "cell_type": "code",
   "execution_count": 16,
   "metadata": {
    "collapsed": false
   },
   "outputs": [
    {
     "name": "stdout",
     "output_type": "stream",
     "text": [
      "Accuracy score on test set:  0.596\n"
     ]
    }
   ],
   "source": [
    "# obtain accuracy score\n",
    "testscore = accuracy_score(y_test, predict_y)\n",
    "print(\"Accuracy score on test set: %6.3f\" % testscore)"
   ]
  },
  {
   "cell_type": "markdown",
   "metadata": {},
   "source": [
    "#### 88% accuracy on the training set and 60% accuracy on the test set means we're overfitting the data.  Accelerometer data should be the key here, since a phone on the driver side will experience a different centripetal acceleration than a phone on the passenger side during turns.  But accelerometer data is super noisy!"
   ]
  },
  {
   "cell_type": "code",
   "execution_count": 17,
   "metadata": {
    "collapsed": false
   },
   "outputs": [
    {
     "name": "stdout",
     "output_type": "stream",
     "text": [
      "userAccelerationX: 0.0002\n",
      "userAccelerationY: 0.0003\n",
      "userAccelerationZ: 0.0006\n",
      "gyroscopeX: 0.0303\n",
      "gyroscopeY: 0.0023\n",
      "gyroscopeZ: 0.0113\n",
      "userAccelerationXsm: 0.0012\n",
      "userAccelerationX2sm: 0.0183\n",
      "userAccelerationYsm: 0.0013\n",
      "userAccelerationY2sm: 0.0155\n",
      "userAccelerationZsm: 0.0037\n",
      "userAccelerationZ2sm: 0.0536\n",
      "gyroscopeXsm: 0.1349\n",
      "gyroscopeX2sm: 0.2690\n",
      "gyroscopeYsm: 0.0080\n",
      "gyroscopeY2sm: 0.0775\n",
      "gyroscopeZsm: 0.0392\n",
      "gyroscopeZ2sm: 0.1916\n",
      "userAccelerationXjerk: 0.0002\n",
      "userAccelerationYjerk: 0.0004\n",
      "userAccelerationZjerk: 0.0003\n",
      "gyroscopeXjerk: 0.0010\n",
      "gyroscopeYjerk: 0.0009\n",
      "gyroscopeZjerk: 0.0004\n",
      "userAccelerationXsmjerk: 0.0004\n",
      "userAccelerationX2smjerk: 0.0119\n",
      "userAccelerationYsmjerk: 0.0004\n",
      "userAccelerationY2smjerk: 0.0203\n",
      "userAccelerationZsmjerk: 0.0007\n",
      "userAccelerationZ2smjerk: 0.0103\n",
      "gyroscopeXsmjerk: 0.0003\n",
      "gyroscopeX2smjerk: 0.0172\n",
      "gyroscopeYsmjerk: 0.0007\n",
      "gyroscopeY2smjerk: 0.0464\n",
      "gyroscopeZsmjerk: 0.0010\n",
      "gyroscopeZ2smjerk: 0.0282\n"
     ]
    }
   ],
   "source": [
    "# Inspect feature importances\n",
    "for i, ifeature in enumerate(features):\n",
    "    print(ifeature + ': %6.4f' % clf.feature_importances_[i])"
   ]
  },
  {
   "cell_type": "markdown",
   "metadata": {},
   "source": [
    "#### The smoothed gyroscopeX data is the most useful feature.  This is further confirmation of over-fitting, since this feature corresponds to pitch angle rotation which should be negligible in this dataset (the pitch of the car never changed significantly during the drive)."
   ]
  },
  {
   "cell_type": "code",
   "execution_count": 19,
   "metadata": {
    "collapsed": false
   },
   "outputs": [
    {
     "data": {
      "text/plain": [
       "<matplotlib.axes._subplots.AxesSubplot at 0x1049c9310>"
      ]
     },
     "execution_count": 19,
     "metadata": {},
     "output_type": "execute_result"
    },
    {
     "data": {
      "image/png": "[encoded data removed]",
      "text/plain": [
       "<matplotlib.figure.Figure at 0x10a52e590>"
      ]
     },
     "metadata": {},
     "output_type": "display_data"
    }
   ],
   "source": [
    "# compare bus gyroscopeZ2sm and car gyroscopeZ2sm\n",
    "#q1['gyroscopeXsm'].plot(color='blue', figsize=(12,6), kind='hist', bins=40, alpha=0.4) # car\n",
    "#q3['gyroscopeXsm'].plot(color='green', kind='hist', bins=40, alpha=0.4) # bus\n",
    "q1['gyroscopeXsm'].plot(color='blue', figsize=(12,6)) # car\n",
    "q3['gyroscopeXsm'].plot(color='green') # bus"
   ]
  },
  {
   "cell_type": "markdown",
   "metadata": {},
   "source": [
    "#### This seems like an enormous difference in pitch angle and is really hard to understand.  My guess is that it is somehow an artifact of the experimental setup. Perhaps the quaternion rotation of gyroscopeXYZ is not quite perfect."
   ]
  },
  {
   "cell_type": "markdown",
   "metadata": {},
   "source": [
    "#### Another interesting avenue to pursue is features in Fourier space"
   ]
  },
  {
   "cell_type": "code",
   "execution_count": 35,
   "metadata": {
    "collapsed": false
   },
   "outputs": [],
   "source": [
    "# Generate Fourier Transform of features\n",
    "fftfeatures = []\n",
    "for i in features:\n",
    "    reals = np.real(np.fft.rfft(df[i]))\n",
    "    imags = np.imag(np.fft.rfft(df[i]))\n",
    "    complexs = [reals[0]]\n",
    "    n = len(reals)\n",
    "    if n % 2 == 0:\n",
    "        complexs.append(imags[0])\n",
    "    for j in range(1, n - 1):\n",
    "        complexs.append(reals[j])\n",
    "        complexs.append(imags[j])\n",
    "    complexs.append(reals[j])\n",
    "    if len(df) > len(complexs):\n",
    "        complexs.append(imags[j])\n",
    "    df['f' + i] = complexs\n",
    "    fftfeatures.append('f' + i)\n",
    "features.extend(fftfeatures)"
   ]
  },
  {
   "cell_type": "code",
   "execution_count": 38,
   "metadata": {
    "collapsed": true
   },
   "outputs": [],
   "source": [
    "# separate into quarters for train and validation\n",
    "q1 = df[(df.index <= '2015-08-25 14:38:30') & \n",
    "        (df.index > '2015-08-25 14:33:00')]\n",
    "q2 = df[(df.index > '2015-08-25 14:38:30') & \n",
    "        (df.index <= '2015-08-25 14:42:00')]\n",
    "q3 = df[(df.index > '2015-08-25 14:43:00') & \n",
    "        (df.index <= '2015-08-25 14:45:30')]\n",
    "q4 = df[(df.index > '2015-08-25 14:45:30') & \n",
    "        (df.index <= '2015-08-25 14:48:00')]\n",
    "traindf = pd.concat([q1, q3])\n",
    "validationdf = pd.concat([q2, q4])"
   ]
  },
  {
   "cell_type": "code",
   "execution_count": 39,
   "metadata": {
    "collapsed": false
   },
   "outputs": [],
   "source": [
    "# Make the training and validation sets\n",
    "X_train = traindf[fftfeatures].values\n",
    "y_train = traindf['class'].values\n",
    "X_test = validationdf[fftfeatures].values\n",
    "y_test = validationdf['class'].values"
   ]
  },
  {
   "cell_type": "code",
   "execution_count": 40,
   "metadata": {
    "collapsed": false
   },
   "outputs": [],
   "source": [
    "# train a random forest\n",
    "clf = RandomForestClassifier(n_estimators=200)"
   ]
  },
  {
   "cell_type": "code",
   "execution_count": 41,
   "metadata": {
    "collapsed": false
   },
   "outputs": [
    {
     "name": "stdout",
     "output_type": "stream",
     "text": [
      "(array([ 0.76773802,  1.        ,  1.        ,  0.97934386,  0.87302552]), 0.92402148067203727, 0.091248171911248468)\n"
     ]
    }
   ],
   "source": [
    "# get the 5-fold cross-validation score\n",
    "scores = cross_val_score(clf, X_train, y_train, cv=5)\n",
    "print(scores, scores.mean(), scores.std())"
   ]
  },
  {
   "cell_type": "code",
   "execution_count": 42,
   "metadata": {
    "collapsed": true
   },
   "outputs": [],
   "source": [
    "# apply model to test set\n",
    "clf.fit(X_train, y_train)\n",
    "predict_y = clf.predict(X_test)"
   ]
  },
  {
   "cell_type": "code",
   "execution_count": 43,
   "metadata": {
    "collapsed": false
   },
   "outputs": [
    {
     "name": "stdout",
     "output_type": "stream",
     "text": [
      "Accuracy score on test set:  0.731\n"
     ]
    }
   ],
   "source": [
    "# obtain accuracy score\n",
    "testscore = accuracy_score(y_test, predict_y)\n",
    "print(\"Accuracy score on test set: %6.3f\" % testscore)"
   ]
  },
  {
   "cell_type": "markdown",
   "metadata": {},
   "source": [
    "#### Better accuracy on the test set: 73%.  We are still overfitting here, since we got 92% accuracy on the training set.  Using the Fourier domain seems to be helpful."
   ]
  },
  {
   "cell_type": "code",
   "execution_count": 44,
   "metadata": {
    "collapsed": false
   },
   "outputs": [
    {
     "name": "stdout",
     "output_type": "stream",
     "text": [
      "fuserAccelerationX: 0.0009\n",
      "fuserAccelerationY: 0.0010\n",
      "fuserAccelerationZ: 0.0010\n",
      "fgyroscopeX: 0.0011\n",
      "fgyroscopeY: 0.0013\n",
      "fgyroscopeZ: 0.0031\n",
      "fuserAccelerationXsm: 0.0387\n",
      "fuserAccelerationX2sm: 0.0641\n",
      "fuserAccelerationYsm: 0.0299\n",
      "fuserAccelerationY2sm: 0.0614\n",
      "fuserAccelerationZsm: 0.0245\n",
      "fuserAccelerationZ2sm: 0.0598\n",
      "fgyroscopeXsm: 0.0374\n",
      "fgyroscopeX2sm: 0.0661\n",
      "fgyroscopeYsm: 0.0436\n",
      "fgyroscopeY2sm: 0.0424\n",
      "fgyroscopeZsm: 0.0531\n",
      "fgyroscopeZ2sm: 0.0595\n",
      "fuserAccelerationXjerk: 0.0041\n",
      "fuserAccelerationYjerk: 0.0022\n",
      "fuserAccelerationZjerk: 0.0027\n",
      "fgyroscopeXjerk: 0.0032\n",
      "fgyroscopeYjerk: 0.0043\n",
      "fgyroscopeZjerk: 0.0022\n",
      "fuserAccelerationXsmjerk: 0.0577\n",
      "fuserAccelerationX2smjerk: 0.0279\n",
      "fuserAccelerationYsmjerk: 0.0371\n",
      "fuserAccelerationY2smjerk: 0.0020\n",
      "fuserAccelerationZsmjerk: 0.0256\n",
      "fuserAccelerationZ2smjerk: 0.0012\n",
      "fgyroscopeXsmjerk: 0.0422\n",
      "fgyroscopeX2smjerk: 0.0177\n",
      "fgyroscopeYsmjerk: 0.0583\n",
      "fgyroscopeY2smjerk: 0.0104\n",
      "fgyroscopeZsmjerk: 0.0391\n",
      "fgyroscopeZ2smjerk: 0.0731\n"
     ]
    }
   ],
   "source": [
    "# Inspect feature importances\n",
    "for i, ifeature in enumerate(fftfeatures):\n",
    "    print(ifeature + ': %6.4f' % clf.feature_importances_[i])"
   ]
  },
  {
   "cell_type": "markdown",
   "metadata": {},
   "source": [
    "#### There is no single feature that is particularly important.  This helps me feel more confident that the results will generalize well to new samples.  74% accuracy in 5 minute ride samples isn't too bad!"
   ]
  },
  {
   "cell_type": "code",
   "execution_count": null,
   "metadata": {
    "collapsed": true
   },
   "outputs": [],
   "source": []
  }
 ],
 "metadata": {
  "kernelspec": {
   "display_name": "Python 2",
   "language": "python",
   "name": "python2"
  },
  "language_info": {
   "codemirror_mode": {
    "name": "ipython",
    "version": 2
   },
   "file_extension": ".py",
   "mimetype": "text/x-python",
   "name": "python",
   "nbconvert_exporter": "python",
   "pygments_lexer": "ipython2",
   "version": "2.7.10"
  }
 },
 "nbformat": 4,
 "nbformat_minor": 0
}
