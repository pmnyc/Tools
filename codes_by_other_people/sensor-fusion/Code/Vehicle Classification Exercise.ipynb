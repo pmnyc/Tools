{
 "cells": [
  {
   "cell_type": "markdown",
   "metadata": {},
   "source": [
    "# Goal: Classify vehicle as bus or car based on smartphone sensor data"
   ]
  },
  {
   "cell_type": "code",
   "execution_count": 52,
   "metadata": {
    "collapsed": true
   },
   "outputs": [],
   "source": [
    "import pandas as pd\n",
    "from scipy.ndimage import gaussian_filter\n",
    "from sklearn.ensemble import RandomForestClassifier\n",
    "from sklearn.cross_validation import cross_val_score\n",
    "from sklearn.metrics import accuracy_score\n",
    "import numpy as np\n",
    "%matplotlib inline"
   ]
  },
  {
   "cell_type": "markdown",
   "metadata": {},
   "source": [
    "#### Load the processed sensor data for car trip (see \"Process Smartphone Sensor Data\" jupyter notebook).  On this trip, I drove my car from home to Censio and back and used SensorLog on my iPhone to track the trip.  The total time for the trip was about 15 minutes."
   ]
  },
  {
   "cell_type": "code",
   "execution_count": 20,
   "metadata": {
    "collapsed": false
   },
   "outputs": [],
   "source": [
    "dfcar = pd.read_csv('../Data/shaneiphone_exp2_processed.csv', index_col='DateTime')"
   ]
  },
  {
   "cell_type": "markdown",
   "metadata": {},
   "source": [
    "#### Load the processed sensor data for bus trip (see \"Process Smartphone Sensor Data\" jupyter notebook).  On this trip, I took the 47 bus for about 10 minutes."
   ]
  },
  {
   "cell_type": "code",
   "execution_count": 21,
   "metadata": {
    "collapsed": false
   },
   "outputs": [],
   "source": [
    "dfbus = pd.read_csv('../Data/shanebus20150827_processed.csv', index_col='DateTime')"
   ]
  },
  {
   "cell_type": "code",
   "execution_count": 22,
   "metadata": {
    "collapsed": true
   },
   "outputs": [],
   "source": [
    "# combine into a single dataframe\n",
    "df = pd.concat([dfcar, dfbus])"
   ]
  },
  {
   "cell_type": "code",
   "execution_count": 38,
   "metadata": {
    "collapsed": true
   },
   "outputs": [],
   "source": [
    "# Use only userAcceleration and gyroscope data, since these features are expected to generalize well.\n",
    "xyz = ['X', 'Y', 'Z']\n",
    "measures = ['userAcceleration', 'gyroscope']\n",
    "basefeatures = [i + j for i in measures for j in xyz]\n",
    "features = [i + j for i in measures for j in xyz]"
   ]
  },
  {
   "cell_type": "code",
   "execution_count": 39,
   "metadata": {
    "collapsed": true
   },
   "outputs": [],
   "source": [
    "# Add Gaussian smoothed features\n",
    "smoothfeatures = []\n",
    "for i in features:\n",
    "    df[i + 'sm'] = gaussian_filter(df[i], 3)\n",
    "    df[i + '2sm'] = gaussian_filter(df[i], 100)\n",
    "    smoothfeatures.append(i + 'sm')\n",
    "    smoothfeatures.append(i + '2sm')\n",
    "features.extend(smoothfeatures)"
   ]
  },
  {
   "cell_type": "code",
   "execution_count": 40,
   "metadata": {
    "collapsed": true
   },
   "outputs": [],
   "source": [
    "# Generate Jerk signal\n",
    "jerkfeatures = []\n",
    "for i in features:\n",
    "    diffsignal = np.diff(df[i])\n",
    "    df[i + 'jerk'] = np.append(0, diffsignal)\n",
    "    jerkfeatures.append(i + 'jerk')\n",
    "features.extend(jerkfeatures)"
   ]
  },
  {
   "cell_type": "code",
   "execution_count": 41,
   "metadata": {
    "collapsed": true
   },
   "outputs": [],
   "source": [
    "# assign class labels\n",
    "car0 = (df.index > '2015-08-25 14:35:00') & \\\n",
    "        (df.index <= '2015-08-25 14:42:00')\n",
    "\n",
    "car1 = (df.index > '2015-08-25 14:43:00') & \\\n",
    "        (df.index <= '2015-08-25 14:48:00')\n",
    "\n",
    "bus0 = (df.index > '2015-08-27 10:10:00') & \\\n",
    "        (df.index <= '2015-08-27 10:15:00')\n",
    "bus1 = (df.index > '2015-08-27 10:15:00') & \\\n",
    "        (df.index <= '2015-08-27 10:20:00')\n",
    "\n",
    "nc = len(df)\n",
    "df['class'] = np.zeros(nc) - 1\n",
    "df['class'][car0] = np.zeros(nc)\n",
    "df['class'][car1] = np.zeros(nc)\n",
    "df['class'][bus0] = np.ones(nc)\n",
    "df['class'][bus1] = np.ones(nc)"
   ]
  },
  {
   "cell_type": "code",
   "execution_count": 42,
   "metadata": {
    "collapsed": true
   },
   "outputs": [],
   "source": [
    "# separate into quarters for train and validation\n",
    "q1 = df[car0]\n",
    "q2 = df[car1]\n",
    "q3 = df[bus0]\n",
    "q4 = df[bus1]\n",
    "traindf = pd.concat([q2, q4])\n",
    "validationdf = pd.concat([q1, q3])"
   ]
  },
  {
   "cell_type": "code",
   "execution_count": 43,
   "metadata": {
    "collapsed": false
   },
   "outputs": [
    {
     "name": "stdout",
     "output_type": "stream",
     "text": [
      "0\n",
      "0\n"
     ]
    }
   ],
   "source": [
    "# check for NaNs in the dataframes\n",
    "print(traindf.isnull().sum().sum())\n",
    "print(validationdf.isnull().sum().sum())"
   ]
  },
  {
   "cell_type": "code",
   "execution_count": 44,
   "metadata": {
    "collapsed": true
   },
   "outputs": [],
   "source": [
    "# drop NaNs\n",
    "traindf = traindf.dropna()\n",
    "validationdf = validationdf.dropna()"
   ]
  },
  {
   "cell_type": "code",
   "execution_count": 45,
   "metadata": {
    "collapsed": true
   },
   "outputs": [],
   "source": [
    "# Make the training and validation sets\n",
    "X_train = traindf[features].values\n",
    "y_train = traindf['class'].values\n",
    "X_test = validationdf[features].values\n",
    "y_test = validationdf['class'].values"
   ]
  },
  {
   "cell_type": "code",
   "execution_count": 46,
   "metadata": {
    "collapsed": false
   },
   "outputs": [],
   "source": [
    "# train a random forest\n",
    "clf = RandomForestClassifier(n_estimators=200)"
   ]
  },
  {
   "cell_type": "code",
   "execution_count": 47,
   "metadata": {
    "collapsed": false
   },
   "outputs": [
    {
     "name": "stdout",
     "output_type": "stream",
     "text": [
      "(array([ 0.67006308,  0.63221737,  0.60436893,  0.68479845,  0.85769791]), 0.68982914717583199, 0.088564657518697895)\n"
     ]
    }
   ],
   "source": [
    "# get the 5-fold cross-validation score\n",
    "scores = cross_val_score(clf, X_train, y_train, cv=5)\n",
    "print(scores, scores.mean(), scores.std())"
   ]
  },
  {
   "cell_type": "code",
   "execution_count": 48,
   "metadata": {
    "collapsed": true
   },
   "outputs": [],
   "source": [
    "# apply model to test set\n",
    "clf.fit(X_train, y_train)\n",
    "predict_y = clf.predict(X_test)"
   ]
  },
  {
   "cell_type": "code",
   "execution_count": 49,
   "metadata": {
    "collapsed": false
   },
   "outputs": [
    {
     "name": "stdout",
     "output_type": "stream",
     "text": [
      "Accuracy score on test set:  0.654\n"
     ]
    }
   ],
   "source": [
    "# obtain accuracy score\n",
    "testscore = accuracy_score(y_test, predict_y)\n",
    "print(\"Accuracy score on test set: %6.3f\" % testscore)"
   ]
  },
  {
   "cell_type": "markdown",
   "metadata": {},
   "source": [
    "#### We're not overfitting the data, but we're also not really predicting the vehicle class very well, since we're only right about 65-70% of the time with any prediction we make."
   ]
  },
  {
   "cell_type": "code",
   "execution_count": 50,
   "metadata": {
    "collapsed": false
   },
   "outputs": [
    {
     "name": "stdout",
     "output_type": "stream",
     "text": [
      "userAccelerationX: 0.0022\n",
      "userAccelerationY: 0.0013\n",
      "userAccelerationZ: 0.0016\n",
      "gyroscopeX: 0.0033\n",
      "gyroscopeY: 0.0050\n",
      "gyroscopeZ: 0.0416\n",
      "userAccelerationXsm: 0.0141\n",
      "userAccelerationX2sm: 0.0390\n",
      "userAccelerationYsm: 0.0071\n",
      "userAccelerationY2sm: 0.0619\n",
      "userAccelerationZsm: 0.0036\n",
      "userAccelerationZ2sm: 0.0508\n",
      "gyroscopeXsm: 0.0117\n",
      "gyroscopeX2sm: 0.0495\n",
      "gyroscopeYsm: 0.0384\n",
      "gyroscopeY2sm: 0.0840\n",
      "gyroscopeZsm: 0.1003\n",
      "gyroscopeZ2sm: 0.1531\n",
      "userAccelerationXjerk: 0.0012\n",
      "userAccelerationYjerk: 0.0008\n",
      "userAccelerationZjerk: 0.0019\n",
      "gyroscopeXjerk: 0.0018\n",
      "gyroscopeYjerk: 0.0015\n",
      "gyroscopeZjerk: 0.0220\n",
      "userAccelerationXsmjerk: 0.0018\n",
      "userAccelerationX2smjerk: 0.0209\n",
      "userAccelerationYsmjerk: 0.0019\n",
      "userAccelerationY2smjerk: 0.0550\n",
      "userAccelerationZsmjerk: 0.0016\n",
      "userAccelerationZ2smjerk: 0.0227\n",
      "gyroscopeXsmjerk: 0.0089\n",
      "gyroscopeX2smjerk: 0.0329\n",
      "gyroscopeYsmjerk: 0.0111\n",
      "gyroscopeY2smjerk: 0.0609\n",
      "gyroscopeZsmjerk: 0.0299\n",
      "gyroscopeZ2smjerk: 0.0545\n"
     ]
    }
   ],
   "source": [
    "# Inspect feature importances\n",
    "for i, ifeature in enumerate(features):\n",
    "    print(ifeature + ': %6.4f' % clf.feature_importances_[i])"
   ]
  },
  {
   "cell_type": "markdown",
   "metadata": {},
   "source": [
    "#### The smoothed gyroscopeZ data is the most useful feature."
   ]
  },
  {
   "cell_type": "code",
   "execution_count": 60,
   "metadata": {
    "collapsed": false
   },
   "outputs": [
    {
     "data": {
      "text/plain": [
       "<matplotlib.axes._subplots.AxesSubplot at 0x112a5be90>"
      ]
     },
     "execution_count": 60,
     "metadata": {},
     "output_type": "execute_result"
    },
    {
     "data": {
      "image/png": "[encoded data removed]",
      "text/plain": [
       "<matplotlib.figure.Figure at 0x112a0ab90>"
      ]
     },
     "metadata": {},
     "output_type": "display_data"
    }
   ],
   "source": [
    "# compare bus gyroscopeZ2sm and car gyroscopeZ2sm\n",
    "q1['gyroscopeZ2sm'].plot(color='blue', figsize=(12,6), kind='hist', bins=40, alpha=0.4) # car\n",
    "q3['gyroscopeZ2sm'].plot(color='green', kind='hist', bins=40, alpha=0.4) # bus"
   ]
  },
  {
   "cell_type": "markdown",
   "metadata": {},
   "source": [
    "#### Reflecting on this further, it occurs to me that this methodology is identifying that the bus trip and the car trip followed different routes and had different numbers and types of turns.  A better way to go might be to identify features for each turn (e.g., time to complete turn, average accelerometer and gyroscope signal during turn, etc.) and apply the random forest to those features."
   ]
  },
  {
   "cell_type": "markdown",
   "metadata": {},
   "source": [
    "#### Another interesting avenue to pursue is features in Fourier space"
   ]
  },
  {
   "cell_type": "code",
   "execution_count": 61,
   "metadata": {
    "collapsed": false
   },
   "outputs": [],
   "source": [
    "# Generate Fourier Transform of features\n",
    "fftfeatures = []\n",
    "for i in features:\n",
    "    reals = np.real(np.fft.rfft(df[i]))\n",
    "    imags = np.imag(np.fft.rfft(df[i]))\n",
    "    complexs = [reals[0]]\n",
    "    n = len(reals)\n",
    "    if n % 2 == 0:\n",
    "        complexs.append(imags[0])\n",
    "    for j in range(1, n - 1):\n",
    "        complexs.append(reals[j])\n",
    "        complexs.append(imags[j])\n",
    "    complexs.append(reals[j])\n",
    "    df['f' + i] = complexs\n",
    "    fftfeatures.append('f' + i)\n",
    "features.extend(fftfeatures)"
   ]
  },
  {
   "cell_type": "code",
   "execution_count": 62,
   "metadata": {
    "collapsed": true
   },
   "outputs": [],
   "source": [
    "# Make the training and validation sets\n",
    "X_train = traindf[fftfeatures].values\n",
    "y_train = traindf['class'].values\n",
    "X_test = validationdf[fftfeatures].values\n",
    "y_test = validationdf['class'].values"
   ]
  },
  {
   "cell_type": "code",
   "execution_count": 63,
   "metadata": {
    "collapsed": false
   },
   "outputs": [],
   "source": [
    "# train a random forest\n",
    "clf = RandomForestClassifier(n_estimators=200)"
   ]
  },
  {
   "cell_type": "code",
   "execution_count": 64,
   "metadata": {
    "collapsed": false
   },
   "outputs": [
    {
     "name": "stdout",
     "output_type": "stream",
     "text": [
      "(array([ 1.,  1.,  1.,  1.,  1.]), 1.0, 0.0)\n"
     ]
    }
   ],
   "source": [
    "# get the 5-fold cross-validation score\n",
    "scores = cross_val_score(clf, X_train, y_train, cv=5)\n",
    "print(scores, scores.mean(), scores.std())"
   ]
  },
  {
   "cell_type": "code",
   "execution_count": 65,
   "metadata": {
    "collapsed": true
   },
   "outputs": [],
   "source": [
    "# apply model to test set\n",
    "clf.fit(X_train, y_train)\n",
    "predict_y = clf.predict(X_test)"
   ]
  },
  {
   "cell_type": "code",
   "execution_count": 66,
   "metadata": {
    "collapsed": false
   },
   "outputs": [
    {
     "name": "stdout",
     "output_type": "stream",
     "text": [
      "Accuracy score on test set:  0.868\n"
     ]
    }
   ],
   "source": [
    "# obtain accuracy score\n",
    "testscore = accuracy_score(y_test, predict_y)\n",
    "print(\"Accuracy score on test set: %6.3f\" % testscore)"
   ]
  },
  {
   "cell_type": "markdown",
   "metadata": {},
   "source": [
    "#### Much better accuracy on the test set: 87%.  We are definitely overfitting here, since we got 100% accuracy on the training set.  We are also probably suffering from the same problem using the time series data, where the classifier learns to classify based on the nature of the route, not the nature of the ride."
   ]
  },
  {
   "cell_type": "code",
   "execution_count": 68,
   "metadata": {
    "collapsed": false
   },
   "outputs": [
    {
     "name": "stdout",
     "output_type": "stream",
     "text": [
      "fuserAccelerationX: 0.0003\n",
      "fuserAccelerationY: 0.0004\n",
      "fuserAccelerationZ: 0.0000\n",
      "fgyroscopeX: 0.0004\n",
      "fgyroscopeY: 0.0002\n",
      "fgyroscopeZ: 0.0008\n",
      "fuserAccelerationXsm: 0.0455\n",
      "fuserAccelerationX2sm: 0.0199\n",
      "fuserAccelerationYsm: 0.1113\n",
      "fuserAccelerationY2sm: 0.0253\n",
      "fuserAccelerationZsm: 0.0360\n",
      "fuserAccelerationZ2sm: 0.0183\n",
      "fgyroscopeXsm: 0.0570\n",
      "fgyroscopeX2sm: 0.0431\n",
      "fgyroscopeYsm: 0.0558\n",
      "fgyroscopeY2sm: 0.0355\n",
      "fgyroscopeZsm: 0.0509\n",
      "fgyroscopeZ2sm: 0.0615\n",
      "fuserAccelerationXjerk: 0.0004\n",
      "fuserAccelerationYjerk: 0.0002\n",
      "fuserAccelerationZjerk: 0.0002\n",
      "fgyroscopeXjerk: 0.0006\n",
      "fgyroscopeYjerk: 0.0004\n",
      "fgyroscopeZjerk: 0.0002\n",
      "fuserAccelerationXsmjerk: 0.0381\n",
      "fuserAccelerationX2smjerk: 0.0000\n",
      "fuserAccelerationYsmjerk: 0.1315\n",
      "fuserAccelerationY2smjerk: 0.0001\n",
      "fuserAccelerationZsmjerk: 0.0069\n",
      "fuserAccelerationZ2smjerk: 0.0000\n",
      "fgyroscopeXsmjerk: 0.0480\n",
      "fgyroscopeX2smjerk: 0.0001\n",
      "fgyroscopeYsmjerk: 0.0607\n",
      "fgyroscopeY2smjerk: 0.0001\n",
      "fgyroscopeZsmjerk: 0.1500\n",
      "fgyroscopeZ2smjerk: 0.0002\n"
     ]
    }
   ],
   "source": [
    "# Inspect feature importances\n",
    "for i, ifeature in enumerate(fftfeatures):\n",
    "    print(ifeature + ': %6.4f' % clf.feature_importances_[i])"
   ]
  },
  {
   "cell_type": "markdown",
   "metadata": {},
   "source": [
    "#### Interesting that the accelerometer signal is more important here.  This could be an indication that training in Fourier space helps mitigate the route-based issues that we encountered when using the time series data."
   ]
  },
  {
   "cell_type": "code",
   "execution_count": null,
   "metadata": {
    "collapsed": true
   },
   "outputs": [],
   "source": []
  }
 ],
 "metadata": {
  "kernelspec": {
   "display_name": "Python 2",
   "language": "python",
   "name": "python2"
  },
  "language_info": {
   "codemirror_mode": {
    "name": "ipython",
    "version": 2
   },
   "file_extension": ".py",
   "mimetype": "text/x-python",
   "name": "python",
   "nbconvert_exporter": "python",
   "pygments_lexer": "ipython2",
   "version": "2.7.10"
  }
 },
 "nbformat": 4,
 "nbformat_minor": 0
}
