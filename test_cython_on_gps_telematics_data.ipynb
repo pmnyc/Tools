{
 "cells": [
  {
   "cell_type": "code",
   "execution_count": 1,
   "metadata": {
    "collapsed": false
   },
   "outputs": [],
   "source": [
    "%load_ext Cython\n",
    "# https://kaushikghose.wordpress.com/2014/12/08/get-more-out-of-cython/\n",
    "# http://nealhughes.net/cython1/\n",
    "# http://codereview.stackexchange.com/questions/43413/optimize-cython-code-with-np-ndarray-contained\n",
    "# https://github.com/bendmorris/pybioclim/blob/master/src/coords.pyx"
   ]
  },
  {
   "cell_type": "markdown",
   "metadata": {},
   "source": [
    "# This is a Demo\n",
    "#### Author: Man Peng\n",
    "#### Date:  Feb 2017"
   ]
  },
  {
   "cell_type": "code",
   "execution_count": 2,
   "metadata": {
    "collapsed": true
   },
   "outputs": [],
   "source": [
    "import math\n",
    "import numpy as np\n",
    "import pandas as pd\n",
    "import logging\n",
    "from datetime import datetime, timezone\n",
    "from datetime import timedelta\n",
    "import os\n",
    "import pytz\n",
    "from itertools import compress\n",
    "\n",
    "\n",
    "GEOLIFE_DATE_FORMAT = \"%Y-%m-%d %H:%M:%S\"\n",
    "GMT = pytz.timezone('GMT')\n",
    "BEIJING_TIMEZONE = pytz.timezone('Asia/Shanghai')\n",
    "TIME_GAP_FOR_ONE_TRIP = 60.  # this defines the time gap between two trips in seconds\n"
   ]
  },
  {
   "cell_type": "code",
   "execution_count": 3,
   "metadata": {
    "collapsed": false
   },
   "outputs": [],
   "source": [
    "def df_shift_one(df, columns):\n",
    "    # get the lag 1 value for columns\n",
    "    df_shift = df[columns].shift(1, axis=0)\n",
    "    new_columns = {}\n",
    "    for col in columns:\n",
    "        new_columns[col] = col+\"_last\"\n",
    "        if col+\"_last\" in df.columns.values:\n",
    "            del df[col+\"_last\"]\n",
    "    df_shift = df_shift.rename(columns=new_columns)\n",
    "    # set the first record to be same as first row\n",
    "    df_shift.ix[df_shift.index[0], :len(columns)] = list(df.ix[df_shift.index[0], columns])\n",
    "    df = pd.concat([df, df_shift], axis=1)\n",
    "    return df\n",
    "\n",
    "\n",
    "def split_trips_by_time(df, time_column='timestamp', time_gap_threshold_sec = TIME_GAP_FOR_ONE_TRIP):\n",
    "    # the time_column is the column name used as time stamp\n",
    "    # time_gap_threshold_sec is threshold in second to tell whether timestamp gap is large enough\n",
    "    # to be considered as another trip\n",
    "    # :return: A dictionary where the keys are trip ID within the same file\n",
    "    df2 = df_shift_one(df, columns=[time_column])\n",
    "    df2['timegap'] = df2[time_column] - df2[time_column+'_last']\n",
    "    trip_index = df2.ix[df2['timegap'] > time_gap_threshold_sec].index\n",
    "    df_dict = {}\n",
    "    trip_index_cutoff = list(set([df2.index[0]] + list(trip_index) + [df2.index[-1]+1]))  # use unique index for robustness\n",
    "    trip_index_cutoff.sort()\n",
    "    numoftrips = len(trip_index_cutoff) -1\n",
    "    trip_internal_id = list(map(lambda x: \"suf_0\"+str(x) if x<10 else \"suf_\"+str(x), range(numoftrips)))\n",
    "    for i in range(len(trip_internal_id)):\n",
    "        # intentionally remove first data point, often that point is prone to GPS recording error\n",
    "        df_dict[trip_internal_id[i]] = df.ix[(trip_index_cutoff[i]+1):(trip_index_cutoff[i+1]-1)]\n",
    "    return df_dict\n",
    "\n",
    "\n",
    "def calc_distance(lat1, lon1, lat2, lon2, unit=\"km\"):\n",
    "    \"\"\"\n",
    "    The function returns the distance between two lat, long coordinates in miles or kilometers\n",
    "\n",
    "    :param lat1: latitude info, in geo reference WGS84\n",
    "    :param lon1: longitude info, in geo reference WGS84\n",
    "    :type arg1: float\n",
    "    :type arg2: float\n",
    "    :type arg3: float\n",
    "    :type arg4: float\n",
    "    :return: the distance between two coordinates in mile or km\n",
    "    :rtype: float\n",
    "\n",
    "    :Example:\n",
    "    >>> calc_distance(40.920320, -74.293288, 40.730975, -74.001509, \"km\")\n",
    "    \"\"\"\n",
    "    error_msg = \"The unit for distance has to be one of mile and km\"\n",
    "    if unit not in ['mile', 'km']:\n",
    "        raise ValueError(error_msg)\n",
    "    theta = lon1 -lon2\n",
    "    dist_angle = math.sin(math.radians(lat1))*math.sin(math.radians(lat2)) \\\n",
    "            + math.cos(math.radians(lat1))*math.cos(math.radians(lat2)) \\\n",
    "            * math.cos(math.radians(theta))\n",
    "    dist_angle = max(-1, min(dist_angle, 1))\n",
    "    dist_angle = math.acos(dist_angle)\n",
    "    dist_angle = math.degrees(dist_angle)\n",
    "    mile = dist_angle * 60.0 * 1.1515\n",
    "    if mile < 1e-4: mile = 0\n",
    "    km = mile * 1.609344\n",
    "    if unit == 'mile':\n",
    "        return mile\n",
    "    elif unit == 'km':\n",
    "        return km\n",
    "    else:\n",
    "        raise ValueError(error_msg)\n",
    "\n",
    "\n",
    "## Vectorized version of distance calculation for speed boost\n",
    "try:\n",
    "    from numba import vectorize, float32, float64\n",
    "    @vectorize([float32(float32, float32, float32, float32),\n",
    "            float64(float64, float64, float64, float64)])\n",
    "    def calc_distance_km_withnumba(lat1, lon1, lat2, lon2):\n",
    "        \"\"\"\n",
    "        This is vectorized version\n",
    "        \"\"\"\n",
    "        theta = lon1 - lon2\n",
    "        dist_angle = math.sin(math.radians(lat1))*math.sin(math.radians(lat2)) \\\n",
    "                + math.cos(math.radians(lat1))*math.cos(math.radians(lat2)) \\\n",
    "                * math.cos(math.radians(theta))\n",
    "        dist_angle = max(-1, min(dist_angle, 1))\n",
    "        dist_angle = math.acos(dist_angle)\n",
    "        dist_angle = math.degrees(dist_angle)\n",
    "        mile = dist_angle * 60.0 * 1.1515\n",
    "        if mile < 1e-4: mile = 0.0\n",
    "        km = mile * 1.609344\n",
    "        return km\n",
    "except ModuleNotFoundError:\n",
    "    pass\n",
    "\n",
    "\n",
    "def load_gps_plt_data2array(file_dir):\n",
    "    \"\"\"\n",
    "    Load in the gps data in the log file if file directory is given\n",
    "    Field 1: Latitude in decimal degrees.\n",
    "    Field 2: Longitude in decimal degrees.\n",
    "    Field 3: All set to 0 for this dataset.\n",
    "    Field 4: Altitude in feet (-777 if not valid).\n",
    "    Field 5: Date - number of days (with fractional part) that have passed since 12/30/1899.\n",
    "    Field 6: Date as a string.\n",
    "    Field 7: Time as a string.\n",
    "    >>> x_ = load_gps_plt_data2array(file_dir='./data_GeoLife/001/Trajectory/20081023055305.plt')\n",
    "    \"\"\"\n",
    "    gpsdata = np.genfromtxt(file_dir,\n",
    "                            delimiter=',',\n",
    "                            skip_header=6,\n",
    "                            dtype=\"f8,f8,f8,f8,f8,S10,S8\",\n",
    "                            #dtype=('<f8','<f8','<f8','<f8','<f8','|S10', '|S8'),\n",
    "                            #dtype=(float,float,float,float,float,'|S10','|S10'),\n",
    "                            usecols = range(7), # select your own columns\n",
    "                            names=['lat', 'lon', 'dummy1', 'alt', 'days_passed', 'date_str', 'time'],\n",
    "                            autostrip=True)\n",
    "    return gpsdata\n",
    "\n",
    "\n",
    "# Filter the noise using rolling median on array\n",
    "def index_filter_by_median_on_array(signal, threshold=3):\n",
    "    df = pd.DataFrame(np.array(signal))\n",
    "    df['zz_pandas'] = df.rolling(10, min_periods=3).median().fillna(0)\n",
    "    difference = (df[0] - df['zz_pandas'])/(df['zz_pandas'] + 0.01)\n",
    "    outlier_idx = (difference > threshold) & (df[0] > df[0].quantile(.99))\n",
    "    # outlier_idx is bolean list\n",
    "    return list(compress(range(len(outlier_idx)), outlier_idx))\n",
    "\n",
    "\n",
    "# Filter the noise using rolling median on data frame\n",
    "def df_filter_by_median(df, column='speed', threshold=4.):\n",
    "    # column is the column name used in the rolling-window to filter \n",
    "    # outliers\n",
    "    # df_filter_by_median(df=append_speed(gpsdata))[0]\n",
    "    df2 = pd.DataFrame(df[column])\n",
    "    df2[column+'_roll_median'] = df2.rolling(10, min_periods=3).median().fillna(0)\n",
    "    difference = (df2[column] - df2[column+'_roll_median'])/(df2[column+'_roll_median'] + 0.01)\n",
    "    outlier_idx = df2.ix[(difference > threshold) & (df2[column] > df2[column].quantile(.99))].index\n",
    "    df_dropped = df2.ix[outlier_idx]\n",
    "    df = df.drop(outlier_idx)\n",
    "    return df, df_dropped\n"
   ]
  },
  {
   "cell_type": "code",
   "execution_count": 4,
   "metadata": {
    "collapsed": false
   },
   "outputs": [],
   "source": [
    "def load_gps_plt_data(file_dir):\n",
    "    \"\"\"\n",
    "    Load in the gps data in the log file if file directory is given\n",
    "    Field 1: Latitude in decimal degrees.\n",
    "    Field 2: Longitude in decimal degrees.\n",
    "    Field 3: All set to 0 for this dataset.\n",
    "    Field 4: Altitude in feet (-777 if not valid).\n",
    "    Field 5: Date - number of days (with fractional part) that have passed since 12/30/1899.\n",
    "    Field 6: Date as a string.\n",
    "    Field 7: Time as a string.\n",
    "    >>> x_ = load_gps_plt_data(file_dir='./data_GeoLife/001/Trajectory/20081023055305.plt')\n",
    "    \"\"\"\n",
    "    # gpsdata = pd.read_csv(file_dir, sep=',', header=None, skiprows=6)  # do not use any row for column names by header=None\n",
    "    gpsdata = pd.read_csv(file_dir, sep=',', header=None, skiprows=6, names=['lat', 'lon', 'dummy1', 'alt', 'days_passed', 'date_str', 'time'])\n",
    "    gpsdata['datetime'] = gpsdata.ix[:, 5] + ' ' + gpsdata.ix[:, 6]\n",
    "    # to convert time to Beijing time\n",
    "    # gpsdata['datetime'] = pd.DatetimeIndex(pd.to_datetime(gpsdata['datetime'],format='%Y-%m-%d %H:%M:%S'),tz='UTC').tz_convert('Asia/Shanghai')\n",
    "    gpsdata['datetime'] = pd.DatetimeIndex(pd.to_datetime(gpsdata['datetime'],format='%Y-%m-%d %H:%M:%S'),tz='UTC')\n",
    "    # sample conversion from unix epoch to datetime\n",
    "    # np.array([1368431149, 1368431150]).astype('datetime64[s]')\n",
    "    # convert to UTC epoch time in million seconds, first conversion below converts to nano second\n",
    "    gpsdata['timestamp'] = gpsdata['datetime'].astype(np.int64)/(10**6)\n",
    "    # convert to UTC epoch time in seconds, where decimal places are for millisecond\n",
    "    gpsdata['timestamp'] = gpsdata['timestamp'].astype(np.int64) / 1000.\n",
    "    # remove the records with missing date time\n",
    "    gpsdata = gpsdata[(gpsdata['timestamp'] > 0) & (gpsdata['lon'].notnull()) & (gpsdata['lat'].notnull())]\n",
    "    # gpsdata.index = [i for i in range(gpsdata.shape[0])]  # may slow down calculations\n",
    "    return gpsdata\n",
    "\n",
    "\n",
    "def append_speed(gpsdata):\n",
    "    # The data frame assumes the column names to be precisely as used below\n",
    "    # the gpsdata is a pandas data frame\n",
    "    gpsdata = df_shift_one(gpsdata, columns=['lat', 'lon', 'timestamp'])\n",
    "    gpsdata['distance'] = np.nan\n",
    "    gpsdata['timegap_sec'] = gpsdata['timestamp'] - gpsdata['timestamp_last']\n",
    "    # x_ = 1187142632\n",
    "    # scale_ = gpsdata.ix[gpsdata.index[0], 'timestamp'] / x_\n",
    "    # scale_ = min([1.0, 10.0, 100.0, 1000.0], key=lambda x:abs(math.log(x)-math.log(scale_)))\n",
    "    # gpsdata['timegap_sec'] = gpsdata['timegap_sec'] / scale_\n",
    "    try:\n",
    "        # use the vectorized version first\n",
    "        gpsdata['distance'] = calc_distance_km_withnumba(gpsdata['lat'], \n",
    "                                                         gpsdata['lon'], \n",
    "                                                         gpsdata['lat_last'], \n",
    "                                                         gpsdata['lon_last'])\n",
    "    except NameError:\n",
    "        print(\"Use for-loop to calculate distance and speed\")\n",
    "        for i in gpsdata.index:\n",
    "            value_ = calc_distance(gpsdata.ix[i, 'lat'],\n",
    "                                              gpsdata.ix[i, 'lon'],\n",
    "                                              gpsdata.ix[i, 'lat_last'],\n",
    "                                              gpsdata.ix[i, 'lon_last'], 'km')\n",
    "            gpsdata.ix[i,'distance'] = (value_)\n",
    "    \n",
    "    gpsdata.ix[gpsdata.timegap_sec <=0, 'timegap_sec'] = (0.001)\n",
    "    del gpsdata['lat_last']\n",
    "    del gpsdata['lon_last']\n",
    "    del gpsdata['timestamp_last']\n",
    "    # get the location of index for the \n",
    "    # location = list(compress(range(len(gpsdata['timegap_sec'] > 3600)), gpsdata['timegap_sec'] > 3600))\n",
    "    # gpsdata.ix[gpsdata['timegap_sec'] > TIME_GAP_FOR_ONE_TRIP, ['distance', 'timegap_sec']] = (0., 0.001)\n",
    "    gpsdata['speed'] = 3600. * gpsdata['distance']/gpsdata['timegap_sec']\n",
    "    # speed unit is km/h\n",
    "    return gpsdata\n"
   ]
  },
  {
   "cell_type": "markdown",
   "metadata": {},
   "source": [
    "### Load in GPS Data"
   ]
  },
  {
   "cell_type": "code",
   "execution_count": 5,
   "metadata": {
    "collapsed": true
   },
   "outputs": [],
   "source": [
    "gps = load_gps_plt_data(file_dir='./data_GeoLife/001/Trajectory/20081023055305.plt')\n",
    "gpsdata = gps.ix[:, [0,1,8]]"
   ]
  },
  {
   "cell_type": "code",
   "execution_count": 6,
   "metadata": {
    "collapsed": false,
    "scrolled": false
   },
   "outputs": [],
   "source": [
    "gpsdata_tuple = df_filter_by_median(df=append_speed(gpsdata))\n",
    "gpsdata = gpsdata_tuple[0][gpsdata.columns.values]  # gpsdata is now filtered\n",
    "gpsdata_deleted = gpsdata_tuple[1]\n",
    "gpsdata_dict = split_trips_by_time(df=gpsdata, time_column='timestamp', time_gap_threshold_sec = TIME_GAP_FOR_ONE_TRIP)\n"
   ]
  },
  {
   "cell_type": "markdown",
   "metadata": {},
   "source": [
    "### gpsdata_dict is the filtered GPS data in dictionary format. Each identifies the each trip within the GPS data file."
   ]
  },
  {
   "cell_type": "code",
   "execution_count": 7,
   "metadata": {
    "collapsed": false,
    "scrolled": true
   },
   "outputs": [
    {
     "name": "stdout",
     "output_type": "stream",
     "text": [
      "Distance traveled in the 1-th trip is 1.505 km with 143 data points in 0.1461 hours\n",
      "Distance traveled in the 2-th trip is 6.6737 km with 616 data points in 0.6233 hours\n",
      "Distance traveled in the 3-th trip is 0.079 km with 190 data points in 0.2542 hours\n"
     ]
    },
    {
     "data": {
      "image/png": "[encoded data removed]",
      "text/plain": [
       "<matplotlib.figure.Figure at 0x115ee1eb8>"
      ]
     },
     "metadata": {},
     "output_type": "display_data"
    }
   ],
   "source": [
    "# plot the path\n",
    "import matplotlib.pyplot as plt\n",
    "\n",
    "plottypes = [\"r--\", \"g--\",\"bs\", \"bo\"]\n",
    "keys_ = list(gpsdata_dict.keys())\n",
    "for i in range(len(keys_)):\n",
    "    #plt.scatter(lng, lat)\n",
    "    plottype_ = plottypes[i % 3]\n",
    "    gps_ = gpsdata_dict[keys_[i]]\n",
    "    gps_with_speed_ = append_speed(gps_)\n",
    "    print(\"Distance traveled in the {}-th trip is {} km with {} data points in {} hours\".format(\n",
    "                    i+1,\n",
    "                    round(gps_with_speed_['distance'].sum(),4),\n",
    "                    gps_with_speed_.shape[0],\n",
    "                    round((gps_with_speed_['timestamp'].max()-gps_with_speed_['timestamp'].min())/3600.,4)))\n",
    "    for ii in range(gps_.shape[0]):\n",
    "        lat, lng = tuple(gps_.iloc[ii, :2])\n",
    "        try:\n",
    "            n_lat, n_lng = tuple(gps_.iloc[ii+1, :2])\n",
    "            plt.plot((lng, n_lng),(lat, n_lat), plottype_)\n",
    "        except IndexError:\n",
    "            pass\n",
    "plt.show()\n"
   ]
  },
  {
   "cell_type": "code",
   "execution_count": 8,
   "metadata": {
    "collapsed": false
   },
   "outputs": [
    {
     "name": "stdout",
     "output_type": "stream",
     "text": [
      "Distance traveled on GPS is 0.14696399289179068 km\n",
      "Distance traveled on GPS is 0.14696399289179068 km through JIT\n"
     ]
    }
   ],
   "source": [
    "gpsdata2 = np.array([[53.3854313241815,-1.4932127483203013, 1384209632918], \n",
    "                    [53.38609362252086,-1.4951305729482556, 1384209650218]])\n",
    "\n",
    "distance = sum([calc_distance(gpsdata2[i][0], \n",
    "                              gpsdata2[i][1], \n",
    "                              gpsdata2[i+1][0], \n",
    "                              gpsdata2[i+1][1], \"km\") \n",
    "                for i in range(len(gpsdata2)-1)])\n",
    "print(\"Distance traveled on GPS is {} km\".format(distance))\n",
    "\n",
    "\n",
    "# Test JIT version to see if it matches results from above\n",
    "gpsdata3 = np.array([[53.3854313241815,-1.4932127483203013, 53.38609362252086,-1.4951305729482556], \n",
    "                    [53.3854313241815,-1.4932127483203013, 53.38609362252086,-1.4951305729482556]])\n",
    "distance2 = sum(calc_distance_km_withnumba(gpsdata3[:, 0], \n",
    "                              gpsdata3[:, 1], \n",
    "                              gpsdata3[:, 2], \n",
    "                              gpsdata3[:, 3])) * 0.5\n",
    "print(\"Distance traveled on GPS is {} km through JIT\".format(distance2))"
   ]
  },
  {
   "cell_type": "markdown",
   "metadata": {},
   "source": [
    "# Below are the codes for the using Cython to boost speed"
   ]
  },
  {
   "cell_type": "code",
   "execution_count": 9,
   "metadata": {
    "collapsed": false
   },
   "outputs": [
    {
     "name": "stdout",
     "output_type": "stream",
     "text": [
      "32.34059622449445\n"
     ]
    }
   ],
   "source": [
    "%%cython\n",
    "# or use %%cython -a for more details\n",
    "\n",
    "cimport cython\n",
    "\n",
    "cdef extern from \"math.h\":\n",
    "    double sin(double)\n",
    "    double cos(double)\n",
    "    double acos(double)\n",
    "    double atan2(double, double)\n",
    "\n",
    "cdef double pi = 3.141592654\n",
    "\n",
    "@cython.cdivision(True)\n",
    "cdef double radians(double deg):\n",
    "    return deg/180.*(pi)\n",
    "\n",
    "@cython.cdivision(True)\n",
    "cdef double degrees(double rad):\n",
    "    return rad * (180.0 / pi)\n",
    "\n",
    "# from libc.math cimport acos, degrees, sin, cos, radians\n",
    "\n",
    "cdef double calc_distance_km_c(double lat1, double lon1, \n",
    "                    double lat2, double lon2):\n",
    "    cdef double theta, dist_angle, mile, km\n",
    "        \n",
    "    theta = lon1 -lon2\n",
    "    dist_angle = sin(radians(lat1))* sin(radians(lat2)) \\\n",
    "            + cos(radians(lat1))* cos(radians(lat2)) \\\n",
    "            * cos(radians(theta))\n",
    "    dist_angle = max(-1, min(dist_angle, 1))\n",
    "    dist_angle = acos(dist_angle)\n",
    "    dist_angle = degrees(dist_angle)\n",
    "    mile = dist_angle * 60.0 * 1.1515\n",
    "    km = mile * 1.609344\n",
    "    return km\n",
    "\n",
    "print(calc_distance_km_c(40.920320, -74.293288, 40.730975, -74.001509))"
   ]
  },
  {
   "cell_type": "code",
   "execution_count": 10,
   "metadata": {
    "collapsed": false,
    "scrolled": true
   },
   "outputs": [],
   "source": [
    "%%cython\n",
    "\n",
    "cimport numpy as np\n",
    "cimport cython\n",
    "from libc.time cimport difftime\n",
    "import calendar, time\n",
    "\n",
    "\n",
    "cdef extern from \"math.h\":\n",
    "    double sin(double)\n",
    "    double cos(double)\n",
    "    double acos(double)\n",
    "    double atan2(double, double)\n",
    "    double log(double)\n",
    "\n",
    "cdef double pi = 3.141592654\n",
    "\n",
    "@cython.cdivision(True)\n",
    "cdef double radians(double deg):\n",
    "    return deg/180.*(pi)\n",
    "\n",
    "@cython.cdivision(True)\n",
    "cdef double degrees(double rad):\n",
    "    return rad * (180.0 / pi)\n",
    "\n",
    "# from libc.math cimport acos, degrees, sin, cos, radians\n",
    "\n",
    "cdef double calc_distance_km_c(double lat1, double lon1, \n",
    "                    double lat2, double lon2):\n",
    "    cdef double theta, dist_angle, mile, km\n",
    "        \n",
    "    theta = lon1 -lon2\n",
    "    dist_angle = sin(radians(lat1))* sin(radians(lat2)) \\\n",
    "            + cos(radians(lat1))* cos(radians(lat2)) \\\n",
    "            * cos(radians(theta))\n",
    "    dist_angle = max(-1, min(dist_angle, 1))\n",
    "    dist_angle = acos(dist_angle)\n",
    "    dist_angle = degrees(dist_angle)\n",
    "    mile = dist_angle * 60.0 * 1.1515\n",
    "    km = mile * 1.609344\n",
    "    return km\n",
    "\n",
    "#cdef np.ndarray h = np.zeros([xmax, ymax], dtype=DTYPE)\n",
    "\n",
    "def speed_cal_c(np.ndarray[np.float_t, ndim=2] gpsdata):\n",
    "    \"\"\"\n",
    "    :param gpsdata: numpy 2 dimensional gps data, lat, long and UTC timestamp\n",
    "    :return Speed in the gps data, km/hour\n",
    "    \"\"\"\n",
    "    cdef int len_ = len(gpsdata)-1\n",
    "    cdef double distance = 0.\n",
    "    cdef double scale2sec, x_, x, run_time_in_sec, speed\n",
    "    for i in range(len_):\n",
    "        distance += calc_distance_km_c(gpsdata[i][0], gpsdata[i][1], gpsdata[i+1][0], gpsdata[i+1][1])\n",
    "    # x_ = calendar.timegm(time.gmtime())\n",
    "    x_ = 1187142632\n",
    "    scale_ = gpsdata[0, 2] / x_\n",
    "    scale_ = min([1.0, 10.0, 100.0, 1000.0], key=lambda x:abs(log(x)-log(scale_)))\n",
    "    run_time_in_sec = max(gpsdata[:, 2])/scale_ - min(gpsdata[:, 2])/scale_\n",
    "    speed = (distance / (run_time_in_sec / 3600.0))\n",
    "    print(\"The distance traveled is {} km\".format(distance))\n",
    "    print(\"The time traveled is {} seconds\".format(run_time_in_sec))\n",
    "    print(\"The returned speed is in unit km/h\")\n",
    "    return speed\n"
   ]
  },
  {
   "cell_type": "code",
   "execution_count": 11,
   "metadata": {
    "collapsed": false,
    "scrolled": false
   },
   "outputs": [
    {
     "name": "stdout",
     "output_type": "stream",
     "text": [
      "The distance traveled is 0.14696396221255864 km\n",
      "The time traveled is 17.299999952316284 seconds\n",
      "The returned speed is in unit km/h\n"
     ]
    },
    {
     "data": {
      "text/plain": [
       "30.582096267253124"
      ]
     },
     "execution_count": 11,
     "metadata": {},
     "output_type": "execute_result"
    }
   ],
   "source": [
    "speed_cal_c(gpsdata2)"
   ]
  }
 ],
 "metadata": {
  "kernelspec": {
   "display_name": "Python 3",
   "language": "python",
   "name": "python3"
  },
  "language_info": {
   "codemirror_mode": {
    "name": "ipython",
    "version": 3
   },
   "file_extension": ".py",
   "mimetype": "text/x-python",
   "name": "python",
   "nbconvert_exporter": "python",
   "pygments_lexer": "ipython3",
   "version": "3.6.0"
  }
 },
 "nbformat": 4,
 "nbformat_minor": 2
}
