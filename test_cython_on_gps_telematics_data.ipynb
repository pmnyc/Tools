{
 "cells": [
  {
   "cell_type": "code",
   "execution_count": 1,
   "metadata": {
    "collapsed": false
   },
   "outputs": [],
   "source": [
    "%load_ext Cython\n",
    "# https://kaushikghose.wordpress.com/2014/12/08/get-more-out-of-cython/\n",
    "# http://nealhughes.net/cython1/\n",
    "# http://codereview.stackexchange.com/questions/43413/optimize-cython-code-with-np-ndarray-contained\n",
    "# https://github.com/bendmorris/pybioclim/blob/master/src/coords.pyx"
   ]
  },
  {
   "cell_type": "code",
   "execution_count": 2,
   "metadata": {
    "collapsed": false
   },
   "outputs": [],
   "source": [
    "import math\n",
    "import numpy as np\n",
    "import pandas as pd\n",
    "import logging\n",
    "from datetime import datetime, timezone\n",
    "from datetime import timedelta\n",
    "import os\n",
    "import pytz\n",
    "\n",
    "\n",
    "GEOLIFE_DATE_FORMAT = \"%Y-%m-%d %H:%M:%S\"\n",
    "GMT = pytz.timezone('GMT')\n",
    "BEIJING_TIMEZONE = pytz.timezone('Asia/Shanghai')\n",
    "\n",
    "\n",
    "gpsdata = np.array([[53.3854313241815,-1.4932127483203013, 1384209632918], \n",
    "                    [53.38609362252086,-1.4951305729482556, 1384209650218]])\n",
    "\n",
    "\n",
    "def calc_distance(lat1, lon1, lat2, lon2, unit=\"km\"):\n",
    "    \"\"\"\n",
    "    The function returns the distance between two lat, long coordinates in miles or kilometers\n",
    "\n",
    "    :param lat1: latitude info, in geo reference WGS84\n",
    "    :param lon1: longitude info, in geo reference WGS84\n",
    "    :type arg1: float\n",
    "    :type arg2: float\n",
    "    :type arg3: float\n",
    "    :type arg4: float\n",
    "    :return: the distance between two coordinates in mile or km\n",
    "    :rtype: float\n",
    "\n",
    "    :Example:\n",
    "    >>> calc_distance(40.920320, -74.293288, 40.730975, -74.001509, \"km\")\n",
    "    \"\"\"\n",
    "    error_msg = \"The unit for distance has to be one of mile and km\"\n",
    "    if unit not in ['mile', 'km']:\n",
    "        raise ValueError(error_msg)\n",
    "    theta = lon1 -lon2\n",
    "    dist_angle = math.sin(math.radians(lat1))*math.sin(math.radians(lat2)) \\\n",
    "            + math.cos(math.radians(lat1))*math.cos(math.radians(lat2)) \\\n",
    "            * math.cos(math.radians(theta))\n",
    "    dist_angle = max(-1, min(dist_angle, 1))\n",
    "    dist_angle = math.acos(dist_angle)\n",
    "    dist_angle = math.degrees(dist_angle)\n",
    "    mile = dist_angle * 60.0 * 1.1515\n",
    "    km = mile * 1.609344\n",
    "    if unit == 'mile':\n",
    "        return mile\n",
    "    elif unit == 'km':\n",
    "        return km\n",
    "    else:\n",
    "        raise ValueError(error_msg)\n",
    "\n",
    "\n",
    "def load_gps_plt_data2array(file_dir):\n",
    "    \"\"\"\n",
    "    Load in the gps data in the log file if file directory is given\n",
    "    Field 1: Latitude in decimal degrees.\n",
    "    Field 2: Longitude in decimal degrees.\n",
    "    Field 3: All set to 0 for this dataset.\n",
    "    Field 4: Altitude in feet (-777 if not valid).\n",
    "    Field 5: Date - number of days (with fractional part) that have passed since 12/30/1899.\n",
    "    Field 6: Date as a string.\n",
    "    Field 7: Time as a string.\n",
    "    >>> x_ = load_gps_plt_data2array(file_dir='./data_GeoLife/001/Trajectory/20081023055305.plt')\n",
    "    \"\"\"\n",
    "    gpsdata = np.genfromtxt(file_dir,\n",
    "                            delimiter=',',\n",
    "                            skip_header=6,\n",
    "                            dtype=\"f8,f8,f8,f8,f8,S10,S8\",\n",
    "                            #dtype=('<f8','<f8','<f8','<f8','<f8','|S10', '|S8'),\n",
    "                            #dtype=(float,float,float,float,float,'|S10','|S10'),\n",
    "                            usecols = range(7), # select your own columns\n",
    "                            names=['lat', 'lon', 'dummy1', 'alt', 'days_passed', 'date_str', 'time'],\n",
    "                            autostrip=True)\n",
    "    return gpsdata\n",
    "\n",
    "\n",
    "def load_gps_plt_data(file_dir):\n",
    "    \"\"\"\n",
    "    Load in the gps data in the log file if file directory is given\n",
    "    Field 1: Latitude in decimal degrees.\n",
    "    Field 2: Longitude in decimal degrees.\n",
    "    Field 3: All set to 0 for this dataset.\n",
    "    Field 4: Altitude in feet (-777 if not valid).\n",
    "    Field 5: Date - number of days (with fractional part) that have passed since 12/30/1899.\n",
    "    Field 6: Date as a string.\n",
    "    Field 7: Time as a string.\n",
    "    >>> x_ = load_gps_plt_data(file_dir='./data_GeoLife/001/Trajectory/20081023055305.plt')\n",
    "    \"\"\"\n",
    "    # gpsdata = pd.read_csv(file_dir, sep=',', header=None, skiprows=6)  # do not use any row for column names by header=None\n",
    "    gpsdata = pd.read_csv(file_dir, sep=',', header=None, skiprows=6, names=['lat', 'lon', 'dummy1', 'alt', 'days_passed', 'date_str', 'time'])\n",
    "    gpsdata['datetime'] = gpsdata.ix[:, 5] + ' ' + gpsdata.ix[:, 6]\n",
    "    # to convert time to Beijing time\n",
    "    # gpsdata['datetime'] = pd.DatetimeIndex(pd.to_datetime(gpsdata['datetime'],format='%Y-%m-%d %H:%M:%S'),tz='UTC').tz_convert('Asia/Shanghai')\n",
    "    gpsdata['datetime'] = pd.DatetimeIndex(pd.to_datetime(gpsdata['datetime'],format='%Y-%m-%d %H:%M:%S'),tz='UTC')\n",
    "    # sample conversion from unix epoch to datetime\n",
    "    # np.array([1368431149, 1368431150]).astype('datetime64[s]')\n",
    "    # convert to UTC epoch time in million seconds, first conversion below converts to nano second\n",
    "    gpsdata['timestamp'] = gpsdata['datetime'].astype(np.int64)/(10**6)\n",
    "    gpsdata['timestamp'] = gpsdata['timestamp'].astype(np.int64)\n",
    "    # remove the records with missing date time\n",
    "    gpsdata = gpsdata[gpsdata['timestamp'] > 0]\n",
    "    return gpsdata\n"
   ]
  },
  {
   "cell_type": "code",
   "execution_count": 3,
   "metadata": {
    "collapsed": false,
    "scrolled": true
   },
   "outputs": [
    {
     "name": "stdout",
     "output_type": "stream",
     "text": [
      "32.340596225930696\n"
     ]
    },
    {
     "data": {
      "text/html": [
       "<div>\n",
       "<table border=\"1\" class=\"dataframe\">\n",
       "  <thead>\n",
       "    <tr style=\"text-align: right;\">\n",
       "      <th></th>\n",
       "      <th>lat</th>\n",
       "      <th>lon</th>\n",
       "      <th>timestamp</th>\n",
       "    </tr>\n",
       "  </thead>\n",
       "  <tbody>\n",
       "    <tr>\n",
       "      <th>0</th>\n",
       "      <td>39.984094</td>\n",
       "      <td>116.319236</td>\n",
       "      <td>1224741185000</td>\n",
       "    </tr>\n",
       "    <tr>\n",
       "      <th>2</th>\n",
       "      <td>39.984224</td>\n",
       "      <td>116.319402</td>\n",
       "      <td>1224741191000</td>\n",
       "    </tr>\n",
       "    <tr>\n",
       "      <th>3</th>\n",
       "      <td>39.984211</td>\n",
       "      <td>116.319389</td>\n",
       "      <td>1224741196000</td>\n",
       "    </tr>\n",
       "    <tr>\n",
       "      <th>4</th>\n",
       "      <td>39.984217</td>\n",
       "      <td>116.319422</td>\n",
       "      <td>1224741201000</td>\n",
       "    </tr>\n",
       "    <tr>\n",
       "      <th>5</th>\n",
       "      <td>39.984710</td>\n",
       "      <td>116.319865</td>\n",
       "      <td>1224741203000</td>\n",
       "    </tr>\n",
       "    <tr>\n",
       "      <th>6</th>\n",
       "      <td>39.984674</td>\n",
       "      <td>116.319810</td>\n",
       "      <td>1224741208000</td>\n",
       "    </tr>\n",
       "    <tr>\n",
       "      <th>7</th>\n",
       "      <td>39.984623</td>\n",
       "      <td>116.319773</td>\n",
       "      <td>1224741213000</td>\n",
       "    </tr>\n",
       "    <tr>\n",
       "      <th>8</th>\n",
       "      <td>39.984606</td>\n",
       "      <td>116.319732</td>\n",
       "      <td>1224741218000</td>\n",
       "    </tr>\n",
       "    <tr>\n",
       "      <th>9</th>\n",
       "      <td>39.984555</td>\n",
       "      <td>116.319728</td>\n",
       "      <td>1224741223000</td>\n",
       "    </tr>\n",
       "    <tr>\n",
       "      <th>10</th>\n",
       "      <td>39.984579</td>\n",
       "      <td>116.319769</td>\n",
       "      <td>1224741228000</td>\n",
       "    </tr>\n",
       "  </tbody>\n",
       "</table>\n",
       "</div>"
      ],
      "text/plain": [
       "          lat         lon      timestamp\n",
       "0   39.984094  116.319236  1224741185000\n",
       "2   39.984224  116.319402  1224741191000\n",
       "3   39.984211  116.319389  1224741196000\n",
       "4   39.984217  116.319422  1224741201000\n",
       "5   39.984710  116.319865  1224741203000\n",
       "6   39.984674  116.319810  1224741208000\n",
       "7   39.984623  116.319773  1224741213000\n",
       "8   39.984606  116.319732  1224741218000\n",
       "9   39.984555  116.319728  1224741223000\n",
       "10  39.984579  116.319769  1224741228000"
      ]
     },
     "execution_count": 3,
     "metadata": {},
     "output_type": "execute_result"
    }
   ],
   "source": [
    "print(calc_distance(40.920320, -74.293288, 40.730975, -74.001509, \"km\"))\n",
    "gps = load_gps_plt_data(file_dir='./data_GeoLife/001/Trajectory/20081023055305.plt')\n",
    "gps.ix[:10, [0,1,8]]"
   ]
  },
  {
   "cell_type": "code",
   "execution_count": 4,
   "metadata": {
    "collapsed": false
   },
   "outputs": [
    {
     "name": "stdout",
     "output_type": "stream",
     "text": [
      "Distance traveled on GPS is 0.14696399289179068 km\n"
     ]
    }
   ],
   "source": [
    "distance = sum([calc_distance(gpsdata[i][0], \n",
    "                              gpsdata[i][1], \n",
    "                              gpsdata[i+1][0], \n",
    "                              gpsdata[i+1][1], \"km\") \n",
    "                for i in range(len(gpsdata)-1)])\n",
    "print(\"Distance traveled on GPS is {} km\".format(distance))\n",
    "\n",
    "######################\n"
   ]
  },
  {
   "cell_type": "code",
   "execution_count": 5,
   "metadata": {
    "collapsed": false
   },
   "outputs": [
    {
     "name": "stdout",
     "output_type": "stream",
     "text": [
      "32.34059622449445\n"
     ]
    }
   ],
   "source": [
    "%%cython\n",
    "# or use %%cython -a for more details\n",
    "\n",
    "cimport cython\n",
    "\n",
    "cdef extern from \"math.h\":\n",
    "    double sin(double)\n",
    "    double cos(double)\n",
    "    double acos(double)\n",
    "    double atan2(double, double)\n",
    "\n",
    "cdef double pi = 3.141592654\n",
    "\n",
    "@cython.cdivision(True)\n",
    "cdef double radians(double deg):\n",
    "    return deg/180.*(pi)\n",
    "\n",
    "@cython.cdivision(True)\n",
    "cdef double degrees(double rad):\n",
    "    return rad * (180.0 / pi)\n",
    "\n",
    "# from libc.math cimport acos, degrees, sin, cos, radians\n",
    "\n",
    "cdef double calc_distance_km_c(double lat1, double lon1, \n",
    "                    double lat2, double lon2):\n",
    "    cdef double theta, dist_angle, mile, km\n",
    "        \n",
    "    theta = lon1 -lon2\n",
    "    dist_angle = sin(radians(lat1))* sin(radians(lat2)) \\\n",
    "            + cos(radians(lat1))* cos(radians(lat2)) \\\n",
    "            * cos(radians(theta))\n",
    "    dist_angle = max(-1, min(dist_angle, 1))\n",
    "    dist_angle = acos(dist_angle)\n",
    "    dist_angle = degrees(dist_angle)\n",
    "    mile = dist_angle * 60.0 * 1.1515\n",
    "    km = mile * 1.609344\n",
    "    return km\n",
    "\n",
    "print(calc_distance_km_c(40.920320, -74.293288, 40.730975, -74.001509))"
   ]
  },
  {
   "cell_type": "code",
   "execution_count": 6,
   "metadata": {
    "collapsed": false,
    "scrolled": true
   },
   "outputs": [],
   "source": [
    "%%cython\n",
    "\n",
    "cimport numpy as np\n",
    "cimport cython\n",
    "from libc.time cimport difftime\n",
    "import calendar, time\n",
    "\n",
    "\n",
    "cdef extern from \"math.h\":\n",
    "    double sin(double)\n",
    "    double cos(double)\n",
    "    double acos(double)\n",
    "    double atan2(double, double)\n",
    "    double log(double)\n",
    "\n",
    "cdef double pi = 3.141592654\n",
    "\n",
    "@cython.cdivision(True)\n",
    "cdef double radians(double deg):\n",
    "    return deg/180.*(pi)\n",
    "\n",
    "@cython.cdivision(True)\n",
    "cdef double degrees(double rad):\n",
    "    return rad * (180.0 / pi)\n",
    "\n",
    "# from libc.math cimport acos, degrees, sin, cos, radians\n",
    "\n",
    "cdef double calc_distance_km_c(double lat1, double lon1, \n",
    "                    double lat2, double lon2):\n",
    "    cdef double theta, dist_angle, mile, km\n",
    "        \n",
    "    theta = lon1 -lon2\n",
    "    dist_angle = sin(radians(lat1))* sin(radians(lat2)) \\\n",
    "            + cos(radians(lat1))* cos(radians(lat2)) \\\n",
    "            * cos(radians(theta))\n",
    "    dist_angle = max(-1, min(dist_angle, 1))\n",
    "    dist_angle = acos(dist_angle)\n",
    "    dist_angle = degrees(dist_angle)\n",
    "    mile = dist_angle * 60.0 * 1.1515\n",
    "    km = mile * 1.609344\n",
    "    return km\n",
    "\n",
    "#cdef np.ndarray h = np.zeros([xmax, ymax], dtype=DTYPE)\n",
    "\n",
    "def speed_cal_c(np.ndarray[np.float_t, ndim=2] gpsdata):\n",
    "    \"\"\"\n",
    "    :param gpsdata: numpy 2 dimensional gps data, lat, long and UTC timestamp\n",
    "    :return Speed in the gps data, km/hour\n",
    "    \"\"\"\n",
    "    cdef int len_ = len(gpsdata)-1\n",
    "    cdef double distance = 0.\n",
    "    cdef double scale2sec, x_, x, run_time_in_sec, speed\n",
    "    for i in range(len_):\n",
    "        distance += calc_distance_km_c(gpsdata[i][0], gpsdata[i][1], gpsdata[i+1][0], gpsdata[i+1][1])\n",
    "    # x_ = calendar.timegm(time.gmtime())\n",
    "    x_ = 1187142632\n",
    "    scale_ = gpsdata[0, 2] / x_\n",
    "    scale_ = min([1.0, 10.0, 100.0, 1000.0], key=lambda x:abs(log(x)-log(scale_)))\n",
    "    run_time_in_sec = max(gpsdata[:, 2])/scale_ - min(gpsdata[:, 2])/scale_\n",
    "    speed = (distance / (run_time_in_sec / 3600.0))\n",
    "    print(\"The distance traveled is {} km\".format(distance))\n",
    "    print(\"The time traveled is {} seconds\".format(run_time_in_sec))\n",
    "    print(\"The returned speed is in unit km/h\")\n",
    "    return speed\n"
   ]
  },
  {
   "cell_type": "code",
   "execution_count": 7,
   "metadata": {
    "collapsed": false,
    "scrolled": true
   },
   "outputs": [
    {
     "name": "stdout",
     "output_type": "stream",
     "text": [
      "The distance traveled is 0.14696396221255864 km\n",
      "The time traveled is 17.299999952316284 seconds\n",
      "The returned speed is in unit km/h\n"
     ]
    },
    {
     "data": {
      "text/plain": [
       "30.582096267253124"
      ]
     },
     "execution_count": 7,
     "metadata": {},
     "output_type": "execute_result"
    }
   ],
   "source": [
    "speed_cal_c(gpsdata)"
   ]
  }
 ],
 "metadata": {
  "kernelspec": {
   "display_name": "Python 3",
   "language": "python",
   "name": "python3"
  },
  "language_info": {
   "codemirror_mode": {
    "name": "ipython",
    "version": 3
   },
   "file_extension": ".py",
   "mimetype": "text/x-python",
   "name": "python",
   "nbconvert_exporter": "python",
   "pygments_lexer": "ipython3",
   "version": "3.6.0"
  }
 },
 "nbformat": 4,
 "nbformat_minor": 2
}
