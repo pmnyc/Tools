{
 "cells": [
  {
   "cell_type": "markdown",
   "metadata": {},
   "source": [
    "# This is for matching the nearest road segment from shape file for a series of GPS points"
   ]
  },
  {
   "cell_type": "code",
   "execution_count": 1,
   "metadata": {
    "collapsed": false,
    "scrolled": true
   },
   "outputs": [],
   "source": [
    "from osgeo import ogr, gdalconst\n",
    "import rtree\n",
    "import os\n",
    "import csv, json\n",
    "import pandas as pd\n",
    "from shapely.geometry import Point, mapping\n",
    "from fiona import collection\n",
    "from pandas.io.json import json_normalize\n",
    "import numpy as np\n",
    "import gmplot\n",
    "import timeit\n",
    "import ntpath\n",
    "import shutil\n",
    "\n",
    "\n",
    "\n",
    "def index_shape_file(shapefile):\n",
    "    \"\"\"\n",
    "    This function is to geospatial index the shape file\n",
    "    \"\"\"\n",
    "    driver = ogr.GetDriverByName('ESRI Shapefile')\n",
    "    shapefiledata = driver.Open(shapefile, 0) # 0 means read-only. 1 means writeable.\n",
    "    # Check to see if shapefile is found.\n",
    "    if shapefiledata is None:\n",
    "        print 'Could not open %s' % (shapefile)\n",
    "        return None\n",
    "    else:\n",
    "        layer1 = shapefiledata.GetLayer()\n",
    "        featureCount = layer1.GetFeatureCount()\n",
    "        print \"Number of features in %s: %d\" % (os.path.basename(shapefile),featureCount)\n",
    "        index = rtree.index.Index(interleaved=False)\n",
    "        for fid1 in range(layer1.GetFeatureCount()):\n",
    "            feature1 = layer1.GetFeature(fid1)\n",
    "            geometry1 = feature1.GetGeometryRef()\n",
    "            xmin, xmax, ymin, ymax = geometry1.GetEnvelope()\n",
    "            index.insert(fid1, (xmin, xmax, ymin, ymax))\n",
    "    return index, layer1, driver"
   ]
  },
  {
   "cell_type": "code",
   "execution_count": 2,
   "metadata": {
    "collapsed": false,
    "scrolled": false
   },
   "outputs": [
    {
     "name": "stdout",
     "output_type": "stream",
     "text": [
      "(60928, 2)\n"
     ]
    },
    {
     "data": {
      "text/html": [
       "<div>\n",
       "<table border=\"1\" class=\"dataframe\">\n",
       "  <thead>\n",
       "    <tr style=\"text-align: right;\">\n",
       "      <th></th>\n",
       "      <th>gps_lat</th>\n",
       "      <th>gps_lon</th>\n",
       "    </tr>\n",
       "  </thead>\n",
       "  <tbody>\n",
       "    <tr>\n",
       "      <th>0</th>\n",
       "      <td>53.3498</td>\n",
       "      <td>-6.2603</td>\n",
       "    </tr>\n",
       "    <tr>\n",
       "      <th>1</th>\n",
       "      <td>53.3498</td>\n",
       "      <td>-6.2603</td>\n",
       "    </tr>\n",
       "    <tr>\n",
       "      <th>2</th>\n",
       "      <td>53.3498</td>\n",
       "      <td>-6.2603</td>\n",
       "    </tr>\n",
       "    <tr>\n",
       "      <th>3</th>\n",
       "      <td>53.3498</td>\n",
       "      <td>-6.2603</td>\n",
       "    </tr>\n",
       "    <tr>\n",
       "      <th>4</th>\n",
       "      <td>53.3498</td>\n",
       "      <td>-6.2603</td>\n",
       "    </tr>\n",
       "  </tbody>\n",
       "</table>\n",
       "</div>"
      ],
      "text/plain": [
       "   gps_lat  gps_lon\n",
       "0  53.3498  -6.2603\n",
       "1  53.3498  -6.2603\n",
       "2  53.3498  -6.2603\n",
       "3  53.3498  -6.2603\n",
       "4  53.3498  -6.2603"
      ]
     },
     "execution_count": 2,
     "metadata": {},
     "output_type": "execute_result"
    }
   ],
   "source": [
    "#roadnetwork = './Ireland Opensource data/ireland-and-northern-ireland-latest-free.shp/gis.osm_roads_free_1.shp'\n",
    "#gpsfile = \"1294BFFE-AE75-4720-A146-A6AAE0BCBC84.201310140719350000.csv\"\n",
    "#gpsdata = pd.read_csv(gpsfile, index_col=False)\n",
    "#gpsdata = gpsdata.ix[gpsdata.gps_lat.notnull()]\n",
    "#gpsdata.dropna(axis=0, how='any', subset=['gps_lat', 'gps_lon'], inplace=True)\n",
    "\n",
    "gpsfile = './test.json'\n",
    "gpsfile_2shape_filename = os.path.splitext(ntpath.basename(gpsfile))[0]+\"_zz\"  # to use source file name\n",
    "\n",
    "x_ = pd.read_json(gpsfile, orient=\"table\")[['ROUTE']]\n",
    "gpsdata = pd.DataFrame(x_)\n",
    "\n",
    "# below is only to duplicate the data frame since we do not have\n",
    "# trip data from Ireland yet\n",
    "gpsdata = gpsdata.append(gpsdata)\n",
    "gpsdata = gpsdata.append(gpsdata)\n",
    "gpsdata = gpsdata.append(gpsdata)\n",
    "gpsdata = gpsdata.append(gpsdata)\n",
    "gpsdata = gpsdata.append(gpsdata)\n",
    "gpsdata = gpsdata.append(gpsdata)\n",
    "gpsdata = gpsdata.append(gpsdata)\n",
    "gpsdata = gpsdata.append(gpsdata)\n",
    "gpsdata['gps_lat'] = 0.0\n",
    "gpsdata['gps_lon'] = 0.0\n",
    "for index, row in x_.iterrows():\n",
    "    #gpsdata.ix[index, 'gps_lat'] = test.ix[index]['ROUTE']['Latitude']\n",
    "    #gpsdata.ix[index, 'gps_lon'] = test.ix[index]['ROUTE']['Longitude']\n",
    "    gpsdata.ix[index, 'gps_lat'] = 53.3498\n",
    "    gpsdata.ix[index, 'gps_lon'] = -6.2603\n",
    "\n",
    "gpsdata.drop(['ROUTE'], axis=1, inplace=True)\n",
    "print(gpsdata.shape)\n",
    "gpsdata.head()"
   ]
  },
  {
   "cell_type": "code",
   "execution_count": 3,
   "metadata": {
    "collapsed": false,
    "scrolled": false
   },
   "outputs": [],
   "source": [
    "# Write GPS Data TO Shape File\n",
    "schema = {'geometry': 'Point', 'properties': {'SITEID': 'str'}}\n",
    "\n",
    "with collection(gpsfile_2shape_filename, \"w\", \"ESRI Shapefile\", schema) as output:\n",
    "    for index, row in gpsdata.iterrows():\n",
    "        point = Point(row['gps_lon'], row['gps_lat'])\n",
    "        output.write({\n",
    "            'properties': {'SITEID': index},\n",
    "            'geometry': mapping(point)\n",
    "        })"
   ]
  },
  {
   "cell_type": "code",
   "execution_count": 4,
   "metadata": {
    "collapsed": false,
    "scrolled": false
   },
   "outputs": [
    {
     "name": "stdout",
     "output_type": "stream",
     "text": [
      "Number of features in gis.osm_roads_free_1.shp: 514974\n"
     ]
    }
   ],
   "source": [
    "roadnetwork = './Ireland Opensource data/ireland-and-northern-ireland-latest-free.shp/gis.osm_roads_free_1.shp'\n",
    "\n",
    "index, _ , driver = index_shape_file(roadnetwork)"
   ]
  },
  {
   "cell_type": "code",
   "execution_count": 5,
   "metadata": {
    "collapsed": false
   },
   "outputs": [
    {
     "name": "stdout",
     "output_type": "stream",
     "text": [
      "0 intersects 67746\n",
      "1 intersects 67746\n",
      "2 intersects 67746\n",
      "3 intersects 67746\n",
      "4 intersects 67746\n",
      "5 intersects 67746\n",
      "6 intersects 67746\n",
      "7 intersects 67746\n",
      "8 intersects 67746\n",
      "9 intersects 67746\n"
     ]
    }
   ],
   "source": [
    "# Add road network layer\n",
    "roadnetworkdata = driver.Open(roadnetwork, 0) \n",
    "layer1 = roadnetworkdata.GetLayer()  # layer1 from function index_shape_file can easily crash program, so need recreate\n",
    "\n",
    "# Add GPS point layer\n",
    "gpsfilepath = os.path.join(\"./\", gpsfile_2shape_filename, gpsfile_2shape_filename+\".shp\")\n",
    "pointfile = driver.Open(gpsfilepath, 0) # 0 means read-only. 1 means writeable.\n",
    "layer2 = pointfile.GetLayer()\n",
    "\n",
    "start_time = timeit.default_timer()\n",
    "\n",
    "for fid2 in range(layer2.GetFeatureCount()):\n",
    "    feature2 = layer2.GetFeature(fid2)\n",
    "    geometry2 = feature2.GetGeometryRef()\n",
    "    xmin, xmax, ymin, ymax = geometry2.Buffer(0.0007).GetEnvelope()\n",
    "    min_dis = 1e+10\n",
    "    best_fid = -1\n",
    "    for fid1 in list(index.intersection((xmin, xmax, ymin, ymax))):\n",
    "        feature1 = layer1.GetFeature(fid1)\n",
    "        geometry1 = feature1.GetGeometryRef()\n",
    "        #if geometry2.Buffer(0.0005).Intersects(geometry1):\n",
    "            #print '{} intersects {}'.format(fid2, fid1)\n",
    "            #print('Distance is {}'.format(geometry1.Distance(geometry2)))\n",
    "        if geometry1.Distance(geometry2) < min_dis:\n",
    "            min_dis = geometry1.Distance(geometry2)\n",
    "            best_fid = fid1\n",
    "    if fid2 < 10: print '{} intersects {}'.format(fid2, best_fid)  # just a print out of search result\n",
    "\n",
    "elapsed = timeit.default_timer() - start_time\n",
    "shutil.rmtree(gpsfile_2shape_filename)"
   ]
  },
  {
   "cell_type": "code",
   "execution_count": 6,
   "metadata": {
    "collapsed": true
   },
   "outputs": [],
   "source": [
    "lin_road = np.array(gpsdata.ix[0])\n",
    "z=layer1.GetFeature(best_fid)\n",
    "z2=z.GetGeometryRef()\n",
    "z3=z2.GetPoints()\n",
    "\n",
    "gmap = gmplot.GoogleMapPlotter(z.GetGeometryRef().GetY(), z.GetGeometryRef().GetX(), 16)\n",
    "gmap.plot([lin_road[0][0]]*5, [lin_road[0][1]]*5, color = \"blue\", edge_width = 12)\n",
    "gmap.plot([s1[1] for s1 in z3], [s2[0] for s2 in z3], color = \"red\", edge_width = 10)\n",
    "gmap.draw(\"testfile_temp.html\")"
   ]
  },
  {
   "cell_type": "code",
   "execution_count": 7,
   "metadata": {
    "collapsed": false
   },
   "outputs": [
    {
     "data": {
      "text/plain": [
       "51.234468936920166"
      ]
     },
     "execution_count": 7,
     "metadata": {},
     "output_type": "execute_result"
    }
   ],
   "source": [
    "elapsed"
   ]
  },
  {
   "cell_type": "markdown",
   "metadata": {},
   "source": [
    "## The following is the approach by using geopandas"
   ]
  },
  {
   "cell_type": "code",
   "execution_count": 8,
   "metadata": {
    "collapsed": true
   },
   "outputs": [],
   "source": [
    "import time\n",
    "import pandas as pd\n",
    "import numpy as np\n",
    "import geopandas as gpd\n",
    "from geopandas import GeoDataFrame, read_file\n",
    "from geopandas.tools import sjoin\n",
    "from shapely.geometry import Point, mapping, shape\n"
   ]
  },
  {
   "cell_type": "code",
   "execution_count": 9,
   "metadata": {
    "collapsed": false,
    "scrolled": true
   },
   "outputs": [
    {
     "data": {
      "text/html": [
       "<div>\n",
       "<table border=\"1\" class=\"dataframe\">\n",
       "  <thead>\n",
       "    <tr style=\"text-align: right;\">\n",
       "      <th></th>\n",
       "      <th>bridge</th>\n",
       "      <th>code</th>\n",
       "      <th>fclass</th>\n",
       "      <th>geometry</th>\n",
       "      <th>layer</th>\n",
       "      <th>maxspeed</th>\n",
       "      <th>name</th>\n",
       "      <th>oneway</th>\n",
       "      <th>osm_id</th>\n",
       "      <th>ref</th>\n",
       "      <th>tunnel</th>\n",
       "    </tr>\n",
       "  </thead>\n",
       "  <tbody>\n",
       "    <tr>\n",
       "      <th>0</th>\n",
       "      <td>F</td>\n",
       "      <td>5114</td>\n",
       "      <td>secondary</td>\n",
       "      <td>LINESTRING (-6.2408699 53.3441505, -6.2408081 ...</td>\n",
       "      <td>0</td>\n",
       "      <td>50</td>\n",
       "      <td>Cardiff Lane</td>\n",
       "      <td>B</td>\n",
       "      <td>151364</td>\n",
       "      <td>R813</td>\n",
       "      <td>F</td>\n",
       "    </tr>\n",
       "    <tr>\n",
       "      <th>1</th>\n",
       "      <td>F</td>\n",
       "      <td>5114</td>\n",
       "      <td>secondary</td>\n",
       "      <td>LINESTRING (-6.2635331 53.354535, -6.2634588 5...</td>\n",
       "      <td>0</td>\n",
       "      <td>30</td>\n",
       "      <td>Parnell Square East</td>\n",
       "      <td>F</td>\n",
       "      <td>151368</td>\n",
       "      <td>R132</td>\n",
       "      <td>F</td>\n",
       "    </tr>\n",
       "    <tr>\n",
       "      <th>2</th>\n",
       "      <td>F</td>\n",
       "      <td>5115</td>\n",
       "      <td>tertiary</td>\n",
       "      <td>LINESTRING (-6.4445072 53.4016028, -6.4441885 ...</td>\n",
       "      <td>0</td>\n",
       "      <td>80</td>\n",
       "      <td>None</td>\n",
       "      <td>B</td>\n",
       "      <td>367947</td>\n",
       "      <td>L2223</td>\n",
       "      <td>F</td>\n",
       "    </tr>\n",
       "    <tr>\n",
       "      <th>3</th>\n",
       "      <td>F</td>\n",
       "      <td>5122</td>\n",
       "      <td>residential</td>\n",
       "      <td>LINESTRING (-6.414479 53.386578, -6.41342 53.3...</td>\n",
       "      <td>0</td>\n",
       "      <td>50</td>\n",
       "      <td>Charnwood Avenue</td>\n",
       "      <td>B</td>\n",
       "      <td>367952</td>\n",
       "      <td>None</td>\n",
       "      <td>F</td>\n",
       "    </tr>\n",
       "    <tr>\n",
       "      <th>4</th>\n",
       "      <td>F</td>\n",
       "      <td>5115</td>\n",
       "      <td>tertiary</td>\n",
       "      <td>LINESTRING (-6.4093775 53.3829633, -6.4094016 ...</td>\n",
       "      <td>0</td>\n",
       "      <td>50</td>\n",
       "      <td>Shelerin Road</td>\n",
       "      <td>B</td>\n",
       "      <td>508603</td>\n",
       "      <td>L3018</td>\n",
       "      <td>F</td>\n",
       "    </tr>\n",
       "  </tbody>\n",
       "</table>\n",
       "</div>"
      ],
      "text/plain": [
       "  bridge  code       fclass  \\\n",
       "0      F  5114    secondary   \n",
       "1      F  5114    secondary   \n",
       "2      F  5115     tertiary   \n",
       "3      F  5122  residential   \n",
       "4      F  5115     tertiary   \n",
       "\n",
       "                                            geometry  layer  maxspeed  \\\n",
       "0  LINESTRING (-6.2408699 53.3441505, -6.2408081 ...      0        50   \n",
       "1  LINESTRING (-6.2635331 53.354535, -6.2634588 5...      0        30   \n",
       "2  LINESTRING (-6.4445072 53.4016028, -6.4441885 ...      0        80   \n",
       "3  LINESTRING (-6.414479 53.386578, -6.41342 53.3...      0        50   \n",
       "4  LINESTRING (-6.4093775 53.3829633, -6.4094016 ...      0        50   \n",
       "\n",
       "                  name oneway  osm_id    ref tunnel  \n",
       "0         Cardiff Lane      B  151364   R813      F  \n",
       "1  Parnell Square East      F  151368   R132      F  \n",
       "2                 None      B  367947  L2223      F  \n",
       "3     Charnwood Avenue      B  367952   None      F  \n",
       "4        Shelerin Road      B  508603  L3018      F  "
      ]
     },
     "execution_count": 9,
     "metadata": {},
     "output_type": "execute_result"
    }
   ],
   "source": [
    "roadgdf = gpd.GeoDataFrame.from_file(roadnetwork)\n",
    "roadgdf.head(5)"
   ]
  },
  {
   "cell_type": "code",
   "execution_count": 10,
   "metadata": {
    "collapsed": false,
    "scrolled": true
   },
   "outputs": [
    {
     "data": {
      "image/svg+xml": [
       "<svg xmlns=\"http://www.w3.org/2000/svg\" xmlns:xlink=\"http://www.w3.org/1999/xlink\" width=\"100.0\" height=\"100.0\" viewBox=\"-8.478483448 51.898192152 0.001164996 0.000210796000005\" preserveAspectRatio=\"xMinYMin meet\"><g transform=\"matrix(1,0,0,-1,0,103.7965951)\"><polyline fill=\"none\" stroke=\"#66cc99\" stroke-width=\"2.329992e-05\" points=\"-8.4773616,51.8983598 -8.4784403,51.8982353\" opacity=\"0.8\" /></g></svg>"
      ],
      "text/plain": [
       "<shapely.geometry.linestring.LineString at 0x7f82f525c610>"
      ]
     },
     "execution_count": 10,
     "metadata": {},
     "output_type": "execute_result"
    }
   ],
   "source": [
    "roadgdf.geometry[10]"
   ]
  },
  {
   "cell_type": "code",
   "execution_count": 11,
   "metadata": {
    "collapsed": false
   },
   "outputs": [
    {
     "data": {
      "text/html": [
       "<div>\n",
       "<table border=\"1\" class=\"dataframe\">\n",
       "  <thead>\n",
       "    <tr style=\"text-align: right;\">\n",
       "      <th></th>\n",
       "      <th>gps_lat</th>\n",
       "      <th>gps_lon</th>\n",
       "      <th>geometry</th>\n",
       "    </tr>\n",
       "  </thead>\n",
       "  <tbody>\n",
       "    <tr>\n",
       "      <th>0</th>\n",
       "      <td>53.3498</td>\n",
       "      <td>-6.2603</td>\n",
       "      <td>POINT (-6.2603 53.3498)</td>\n",
       "    </tr>\n",
       "    <tr>\n",
       "      <th>1</th>\n",
       "      <td>53.3498</td>\n",
       "      <td>-6.2603</td>\n",
       "      <td>POINT (-6.2603 53.3498)</td>\n",
       "    </tr>\n",
       "    <tr>\n",
       "      <th>2</th>\n",
       "      <td>53.3498</td>\n",
       "      <td>-6.2603</td>\n",
       "      <td>POINT (-6.2603 53.3498)</td>\n",
       "    </tr>\n",
       "    <tr>\n",
       "      <th>3</th>\n",
       "      <td>53.3498</td>\n",
       "      <td>-6.2603</td>\n",
       "      <td>POINT (-6.2603 53.3498)</td>\n",
       "    </tr>\n",
       "    <tr>\n",
       "      <th>4</th>\n",
       "      <td>53.3498</td>\n",
       "      <td>-6.2603</td>\n",
       "      <td>POINT (-6.2603 53.3498)</td>\n",
       "    </tr>\n",
       "  </tbody>\n",
       "</table>\n",
       "</div>"
      ],
      "text/plain": [
       "   gps_lat  gps_lon                 geometry\n",
       "0  53.3498  -6.2603  POINT (-6.2603 53.3498)\n",
       "1  53.3498  -6.2603  POINT (-6.2603 53.3498)\n",
       "2  53.3498  -6.2603  POINT (-6.2603 53.3498)\n",
       "3  53.3498  -6.2603  POINT (-6.2603 53.3498)\n",
       "4  53.3498  -6.2603  POINT (-6.2603 53.3498)"
      ]
     },
     "execution_count": 11,
     "metadata": {},
     "output_type": "execute_result"
    }
   ],
   "source": [
    "gpsdata['geometry'] = gpsdata.apply(lambda x: Point(x.gps_lon, x.gps_lat), axis=1)\n",
    "gpsdata = gpd.GeoDataFrame(gpsdata)\n",
    "gpsdata.crs = roadgdf.crs\n",
    "gpsdata.head()"
   ]
  },
  {
   "cell_type": "code",
   "execution_count": 12,
   "metadata": {
    "collapsed": false
   },
   "outputs": [
    {
     "name": "stdout",
     "output_type": "stream",
     "text": [
      "Building Spatial Index for GeoPandas Data Frame...\n"
     ]
    }
   ],
   "source": [
    "print(\"Building Spatial Index for GeoPandas Data Frame...\")\n",
    "spatial_index = roadgdf.sindex"
   ]
  },
  {
   "cell_type": "code",
   "execution_count": 13,
   "metadata": {
    "collapsed": false,
    "scrolled": true
   },
   "outputs": [],
   "source": [
    "def shortest_distance(base,\n",
    "                      ref,\n",
    "                      base_latlong_col=[\"gps_lat\", \"gps_lon\"],\n",
    "                      ref_index = spatial_index,\n",
    "                      buffer_size = 0.0007):\n",
    "    # here base can geopandas data frame for points to be merged to\n",
    "    # ref is the reference shape info, such as road network, etc.\n",
    "    columns2add = np.setdiff1d(ref.columns.values, \"geometry\")\n",
    "    fids_to_match = []\n",
    "    ref_geometry = ref['geometry']\n",
    "    if 'GeoDataFrame' in str(base.__class__):\n",
    "        base = pd.DataFrame(base)\n",
    "    longs = base[base_latlong_col[1]].values\n",
    "    lats = base[base_latlong_col[0]].values\n",
    "    for idx in range(base.shape[0]):\n",
    "        row_gem = Point(longs[idx], lats[idx])\n",
    "        fids = list(ref_index.intersection(row_gem.buffer(buffer_size).bounds))\n",
    "        distances = map(lambda x: row_gem.distance(ref_geometry[x]), fids)\n",
    "        if len(fids) > 0:\n",
    "            best_id = fids[distances.index(min(distances))]  # best_id is fid in shape file\n",
    "        fids_to_match += [best_id]\n",
    "    x_ = pd.DataFrame(ref.iloc[fids_to_match][columns2add])\n",
    "    x_.index = base.index\n",
    "    base2 = pd.concat([base, x_], axis=1)\n",
    "    return base2"
   ]
  },
  {
   "cell_type": "code",
   "execution_count": 14,
   "metadata": {
    "collapsed": false,
    "scrolled": true
   },
   "outputs": [],
   "source": [
    "start_time = timeit.default_timer()\n",
    "res = shortest_distance(gpsdata, roadgdf)\n",
    "elapsed = timeit.default_timer() - start_time"
   ]
  },
  {
   "cell_type": "code",
   "execution_count": 15,
   "metadata": {
    "collapsed": false,
    "scrolled": true
   },
   "outputs": [
    {
     "name": "stdout",
     "output_type": "stream",
     "text": [
      "83.7954359055\n"
     ]
    },
    {
     "data": {
      "text/html": [
       "<div>\n",
       "<table border=\"1\" class=\"dataframe\">\n",
       "  <thead>\n",
       "    <tr style=\"text-align: right;\">\n",
       "      <th></th>\n",
       "      <th>gps_lat</th>\n",
       "      <th>gps_lon</th>\n",
       "      <th>geometry</th>\n",
       "      <th>bridge</th>\n",
       "      <th>code</th>\n",
       "      <th>fclass</th>\n",
       "      <th>layer</th>\n",
       "      <th>maxspeed</th>\n",
       "      <th>name</th>\n",
       "      <th>oneway</th>\n",
       "      <th>osm_id</th>\n",
       "      <th>ref</th>\n",
       "      <th>tunnel</th>\n",
       "    </tr>\n",
       "  </thead>\n",
       "  <tbody>\n",
       "    <tr>\n",
       "      <th>0</th>\n",
       "      <td>53.3498</td>\n",
       "      <td>-6.2603</td>\n",
       "      <td>POINT (-6.2603 53.3498)</td>\n",
       "      <td>F</td>\n",
       "      <td>5153</td>\n",
       "      <td>footway</td>\n",
       "      <td>0</td>\n",
       "      <td>0</td>\n",
       "      <td>None</td>\n",
       "      <td>B</td>\n",
       "      <td>42638929</td>\n",
       "      <td>None</td>\n",
       "      <td>F</td>\n",
       "    </tr>\n",
       "    <tr>\n",
       "      <th>1</th>\n",
       "      <td>53.3498</td>\n",
       "      <td>-6.2603</td>\n",
       "      <td>POINT (-6.2603 53.3498)</td>\n",
       "      <td>F</td>\n",
       "      <td>5153</td>\n",
       "      <td>footway</td>\n",
       "      <td>0</td>\n",
       "      <td>0</td>\n",
       "      <td>None</td>\n",
       "      <td>B</td>\n",
       "      <td>42638929</td>\n",
       "      <td>None</td>\n",
       "      <td>F</td>\n",
       "    </tr>\n",
       "    <tr>\n",
       "      <th>2</th>\n",
       "      <td>53.3498</td>\n",
       "      <td>-6.2603</td>\n",
       "      <td>POINT (-6.2603 53.3498)</td>\n",
       "      <td>F</td>\n",
       "      <td>5153</td>\n",
       "      <td>footway</td>\n",
       "      <td>0</td>\n",
       "      <td>0</td>\n",
       "      <td>None</td>\n",
       "      <td>B</td>\n",
       "      <td>42638929</td>\n",
       "      <td>None</td>\n",
       "      <td>F</td>\n",
       "    </tr>\n",
       "    <tr>\n",
       "      <th>3</th>\n",
       "      <td>53.3498</td>\n",
       "      <td>-6.2603</td>\n",
       "      <td>POINT (-6.2603 53.3498)</td>\n",
       "      <td>F</td>\n",
       "      <td>5153</td>\n",
       "      <td>footway</td>\n",
       "      <td>0</td>\n",
       "      <td>0</td>\n",
       "      <td>None</td>\n",
       "      <td>B</td>\n",
       "      <td>42638929</td>\n",
       "      <td>None</td>\n",
       "      <td>F</td>\n",
       "    </tr>\n",
       "    <tr>\n",
       "      <th>4</th>\n",
       "      <td>53.3498</td>\n",
       "      <td>-6.2603</td>\n",
       "      <td>POINT (-6.2603 53.3498)</td>\n",
       "      <td>F</td>\n",
       "      <td>5153</td>\n",
       "      <td>footway</td>\n",
       "      <td>0</td>\n",
       "      <td>0</td>\n",
       "      <td>None</td>\n",
       "      <td>B</td>\n",
       "      <td>42638929</td>\n",
       "      <td>None</td>\n",
       "      <td>F</td>\n",
       "    </tr>\n",
       "  </tbody>\n",
       "</table>\n",
       "</div>"
      ],
      "text/plain": [
       "   gps_lat  gps_lon                 geometry bridge  code   fclass  layer  \\\n",
       "0  53.3498  -6.2603  POINT (-6.2603 53.3498)      F  5153  footway      0   \n",
       "1  53.3498  -6.2603  POINT (-6.2603 53.3498)      F  5153  footway      0   \n",
       "2  53.3498  -6.2603  POINT (-6.2603 53.3498)      F  5153  footway      0   \n",
       "3  53.3498  -6.2603  POINT (-6.2603 53.3498)      F  5153  footway      0   \n",
       "4  53.3498  -6.2603  POINT (-6.2603 53.3498)      F  5153  footway      0   \n",
       "\n",
       "   maxspeed  name oneway    osm_id   ref tunnel  \n",
       "0         0  None      B  42638929  None      F  \n",
       "1         0  None      B  42638929  None      F  \n",
       "2         0  None      B  42638929  None      F  \n",
       "3         0  None      B  42638929  None      F  \n",
       "4         0  None      B  42638929  None      F  "
      ]
     },
     "execution_count": 15,
     "metadata": {},
     "output_type": "execute_result"
    }
   ],
   "source": [
    "print(elapsed)\n",
    "res.head()"
   ]
  }
 ],
 "metadata": {
  "kernelspec": {
   "display_name": "Python [spark-py27]",
   "language": "python",
   "name": "Python [spark-py27]"
  },
  "language_info": {
   "codemirror_mode": {
    "name": "ipython",
    "version": 2
   },
   "file_extension": ".py",
   "mimetype": "text/x-python",
   "name": "python",
   "nbconvert_exporter": "python",
   "pygments_lexer": "ipython2",
   "version": "2.7.13"
  }
 },
 "nbformat": 4,
 "nbformat_minor": 2
}
